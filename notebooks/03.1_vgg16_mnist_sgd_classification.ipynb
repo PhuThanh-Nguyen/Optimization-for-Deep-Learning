{
 "cells": [
  {
   "cell_type": "code",
   "execution_count": 1,
   "id": "7c813f26",
   "metadata": {
    "execution": {
     "iopub.execute_input": "2022-12-30T10:11:32.883321Z",
     "iopub.status.busy": "2022-12-30T10:11:32.882771Z",
     "iopub.status.idle": "2022-12-30T10:11:35.928758Z",
     "shell.execute_reply": "2022-12-30T10:11:35.927714Z"
    },
    "id": "nisf8AY7jy8e",
    "papermill": {
     "duration": 3.057644,
     "end_time": "2022-12-30T10:11:35.931820",
     "exception": false,
     "start_time": "2022-12-30T10:11:32.874176",
     "status": "completed"
    },
    "tags": []
   },
   "outputs": [],
   "source": [
    "import os\n",
    "import numpy as np\n",
    "import glob\n",
    "import torch\n",
    "import torch.nn as nn\n",
    "import torch.nn.functional as F\n",
    "import torchvision\n",
    "import torchvision.transforms as transforms\n",
    "from torch.utils.data import Dataset, DataLoader\n",
    "from torchvision.datasets import MNIST\n",
    "from PIL import Image\n",
    "from torch.optim import Optimizer\n",
    "from sklearn.model_selection import train_test_split\n",
    "from torchvision.models import vgg16\n",
    "from tqdm import tqdm"
   ]
  },
  {
   "cell_type": "code",
   "execution_count": 2,
   "id": "b3c74b2b",
   "metadata": {
    "execution": {
     "iopub.execute_input": "2022-12-30T10:11:35.940691Z",
     "iopub.status.busy": "2022-12-30T10:11:35.940191Z",
     "iopub.status.idle": "2022-12-30T10:11:38.180644Z",
     "shell.execute_reply": "2022-12-30T10:11:38.179439Z"
    },
    "papermill": {
     "duration": 2.247823,
     "end_time": "2022-12-30T10:11:38.183500",
     "exception": false,
     "start_time": "2022-12-30T10:11:35.935677",
     "status": "completed"
    },
    "tags": []
   },
   "outputs": [
    {
     "name": "stdout",
     "output_type": "stream",
     "text": [
      "Downloading http://yann.lecun.com/exdb/mnist/train-images-idx3-ubyte.gz\n",
      "Downloading http://yann.lecun.com/exdb/mnist/train-images-idx3-ubyte.gz to ./data/MNIST/raw/train-images-idx3-ubyte.gz\n"
     ]
    },
    {
     "data": {
      "application/vnd.jupyter.widget-view+json": {
       "model_id": "b3b8d8c30dec420789750f8b5d35463e",
       "version_major": 2,
       "version_minor": 0
      },
      "text/plain": [
       "  0%|          | 0/9912422 [00:00<?, ?it/s]"
      ]
     },
     "metadata": {},
     "output_type": "display_data"
    },
    {
     "name": "stdout",
     "output_type": "stream",
     "text": [
      "Extracting ./data/MNIST/raw/train-images-idx3-ubyte.gz to ./data/MNIST/raw\n",
      "\n",
      "Downloading http://yann.lecun.com/exdb/mnist/train-labels-idx1-ubyte.gz\n",
      "Downloading http://yann.lecun.com/exdb/mnist/train-labels-idx1-ubyte.gz to ./data/MNIST/raw/train-labels-idx1-ubyte.gz\n"
     ]
    },
    {
     "data": {
      "application/vnd.jupyter.widget-view+json": {
       "model_id": "691ae7a6cc6844aaa83d0010489d2db5",
       "version_major": 2,
       "version_minor": 0
      },
      "text/plain": [
       "  0%|          | 0/28881 [00:00<?, ?it/s]"
      ]
     },
     "metadata": {},
     "output_type": "display_data"
    },
    {
     "name": "stdout",
     "output_type": "stream",
     "text": [
      "Extracting ./data/MNIST/raw/train-labels-idx1-ubyte.gz to ./data/MNIST/raw\n",
      "\n",
      "Downloading http://yann.lecun.com/exdb/mnist/t10k-images-idx3-ubyte.gz\n",
      "Downloading http://yann.lecun.com/exdb/mnist/t10k-images-idx3-ubyte.gz to ./data/MNIST/raw/t10k-images-idx3-ubyte.gz\n"
     ]
    },
    {
     "data": {
      "application/vnd.jupyter.widget-view+json": {
       "model_id": "a7c8c06b900e4e69b5bc163f75e50cf4",
       "version_major": 2,
       "version_minor": 0
      },
      "text/plain": [
       "  0%|          | 0/1648877 [00:00<?, ?it/s]"
      ]
     },
     "metadata": {},
     "output_type": "display_data"
    },
    {
     "name": "stdout",
     "output_type": "stream",
     "text": [
      "Extracting ./data/MNIST/raw/t10k-images-idx3-ubyte.gz to ./data/MNIST/raw\n",
      "\n",
      "Downloading http://yann.lecun.com/exdb/mnist/t10k-labels-idx1-ubyte.gz\n",
      "Downloading http://yann.lecun.com/exdb/mnist/t10k-labels-idx1-ubyte.gz to ./data/MNIST/raw/t10k-labels-idx1-ubyte.gz\n"
     ]
    },
    {
     "data": {
      "application/vnd.jupyter.widget-view+json": {
       "model_id": "673f9c52bcea4144a39e133c7c3a72b6",
       "version_major": 2,
       "version_minor": 0
      },
      "text/plain": [
       "  0%|          | 0/4542 [00:00<?, ?it/s]"
      ]
     },
     "metadata": {},
     "output_type": "display_data"
    },
    {
     "name": "stdout",
     "output_type": "stream",
     "text": [
      "Extracting ./data/MNIST/raw/t10k-labels-idx1-ubyte.gz to ./data/MNIST/raw\n",
      "\n"
     ]
    }
   ],
   "source": [
    "img_transform = transforms.Compose([\n",
    "    transforms.ToTensor(),\n",
    "    transforms.Normalize([0.5], [0.5])\n",
    "])\n",
    "\n",
    "TRAIN_BATCHSIZE = 128\n",
    "TEST_BATCHSIZE = 64\n",
    "\n",
    "dataset = MNIST('./data', transform=img_transform, download=True,)\n",
    "train_dataset, val_dataset, test_dataset = torch.utils.data.random_split(dataset, [40000, 10000, 10000])\n",
    "\n",
    "train_loader = DataLoader(train_dataset, batch_size=TRAIN_BATCHSIZE, shuffle=True)\n",
    "val_loader = DataLoader(val_dataset, batch_size=TEST_BATCHSIZE, shuffle=False)\n",
    "test_loader = DataLoader(test_dataset, batch_size=TEST_BATCHSIZE, shuffle=False)\n"
   ]
  },
  {
   "cell_type": "code",
   "execution_count": 3,
   "id": "462f1793",
   "metadata": {
    "execution": {
     "iopub.execute_input": "2022-12-30T10:11:38.193963Z",
     "iopub.status.busy": "2022-12-30T10:11:38.193681Z",
     "iopub.status.idle": "2022-12-30T10:11:38.209828Z",
     "shell.execute_reply": "2022-12-30T10:11:38.208794Z"
    },
    "papermill": {
     "duration": 0.024203,
     "end_time": "2022-12-30T10:11:38.212240",
     "exception": false,
     "start_time": "2022-12-30T10:11:38.188037",
     "status": "completed"
    },
    "tags": []
   },
   "outputs": [],
   "source": [
    "class VGGBlock(nn.Module):\n",
    "    def __init__(self, in_channels, out_channels, batch_norm=False):\n",
    "        super().__init__()\n",
    "        conv2_params = {\n",
    "            'kernel_size': (3, 3),\n",
    "            'stride'     : (1, 1),\n",
    "            'padding'   : 1\n",
    "        }\n",
    "        noop = lambda x : x\n",
    "\n",
    "        self._batch_norm = batch_norm\n",
    "\n",
    "        self.conv1 = nn.Conv2d(in_channels=in_channels,out_channels=out_channels , **conv2_params)\n",
    "        self.bn1 = nn.BatchNorm2d(out_channels) if batch_norm else noop\n",
    "\n",
    "        self.conv2 = nn.Conv2d(in_channels=out_channels,out_channels=out_channels, **conv2_params)\n",
    "        self.bn2 = nn.BatchNorm2d(out_channels) if batch_norm else noop\n",
    "\n",
    "        self.max_pooling = nn.MaxPool2d(kernel_size=(2, 2), stride=(2, 2))\n",
    "\n",
    "    @property\n",
    "    def batch_norm(self):\n",
    "        return self._batch_norm\n",
    "\n",
    "    def forward(self,x):\n",
    "        x = self.conv1(x)\n",
    "        x = self.bn1(x)\n",
    "        x = F.relu(x)\n",
    "\n",
    "        x = self.conv2(x)\n",
    "        x = self.bn2(x)\n",
    "        x = F.relu(x)\n",
    "\n",
    "        x = self.max_pooling(x)\n",
    "        return x\n",
    "    \n",
    "class VGG16(nn.Module):\n",
    "    def __init__(self, config):\n",
    "        super(VGG16, self).__init__()\n",
    "        self.config = config\n",
    "        self.in_channels, self.in_width, self.in_height = config.input_size\n",
    "\n",
    "        self.block_1 = VGGBlock(self.in_channels, 64, batch_norm=config.batch_norm)\n",
    "        self.block_2 = VGGBlock(64, 128,batch_norm=config.batch_norm)\n",
    "        self.block_3 = VGGBlock(128, 256,batch_norm=config.batch_norm)\n",
    "        self.block_4 = VGGBlock(256,512,batch_norm=config.batch_norm)\n",
    "\n",
    "        self.classifier = nn.Sequential(\n",
    "                nn.Linear(512, 256),\n",
    "                nn.ReLU(True),\n",
    "                nn.Dropout(p=0.65),\n",
    "                nn.Linear(256, 128),\n",
    "                nn.ReLU(True),\n",
    "                nn.Dropout(p=0.65),\n",
    "                nn.Linear(128, config.num_classes) \n",
    "            )\n",
    "\n",
    "    @property\n",
    "    def input_size(self):\n",
    "        return self.in_channels,self.in_width,self.in_height\n",
    "\n",
    "    def forward(self, x):\n",
    "\n",
    "        x = self.block_1(x)\n",
    "        x = self.block_2(x)\n",
    "        x = self.block_3(x)\n",
    "        x = self.block_4(x)\n",
    "        x = x.view(x.size(0), -1)\n",
    "        x = self.classifier(x)\n",
    "\n",
    "        return x\n",
    "    \n",
    "    @staticmethod\n",
    "    def _init_model_with_state_dict(state):\n",
    "        model = VGG16(state['model_config'])\n",
    "        model.load_state_dict(state['model_state_dict'])\n",
    "        return model\n",
    "    \n",
    "    @classmethod\n",
    "    def load(cls, path):\n",
    "        r\"\"\"\n",
    "        Loads a model with data fields and pretrained model parameters.\n",
    "        Args:\n",
    "            path (str):\n",
    "                - a string with the shortcut name of a pretrained learner\n",
    "                  to load from .pt file.\n",
    "        Examples:\n",
    "            >>> # model = VGG16.load('./tmp/resources/<model_name>.pt')\n",
    "        \"\"\"\n",
    "        if os.path.exists(path):\n",
    "            state = torch.load(path)\n",
    "        else:\n",
    "            raise FileNotFoundError(errno.ENOENT, os.strerror(errno.ENOENT), path)\n",
    "        model = cls._init_model_with_state_dict(state)\n",
    "        return model"
   ]
  },
  {
   "cell_type": "code",
   "execution_count": 4,
   "id": "38817a64",
   "metadata": {
    "execution": {
     "iopub.execute_input": "2022-12-30T10:11:38.221583Z",
     "iopub.status.busy": "2022-12-30T10:11:38.221290Z",
     "iopub.status.idle": "2022-12-30T10:11:38.238253Z",
     "shell.execute_reply": "2022-12-30T10:11:38.237261Z"
    },
    "papermill": {
     "duration": 0.024163,
     "end_time": "2022-12-30T10:11:38.240318",
     "exception": false,
     "start_time": "2022-12-30T10:11:38.216155",
     "status": "completed"
    },
    "tags": []
   },
   "outputs": [],
   "source": [
    "\n",
    "class AdamOptimizer(Optimizer):\n",
    "    \"\"\"\n",
    "    implements ADAM Algorithm, as a preceding step.\n",
    "    \"\"\"\n",
    "    def __init__(self, params, lr=1e-3, betas=(0.9, 0.99), eps=1e-8, weight_decay=0):\n",
    "        defaults = dict(lr=lr, betas=betas, eps=eps, weight_decay=weight_decay)\n",
    "        super(AdamOptimizer, self).__init__(params, defaults)\n",
    "        \n",
    "    def step(self):\n",
    "        import math\n",
    "        \"\"\"\n",
    "        Performs a single optimization step.\n",
    "        \"\"\"\n",
    "        loss = None\n",
    "        for group in self.param_groups:\n",
    "\n",
    "            for p in group['params']:\n",
    "                grad = p.grad.data\n",
    "                state = self.state[p]\n",
    "\n",
    "                # State initialization\n",
    "                if len(state) == 0:\n",
    "                    state['step'] = 0\n",
    "                    # Momentum (Exponential MA of gradients)\n",
    "                    state['exp_avg'] = torch.zeros_like(p.data)\n",
    "                    #print(p.data.size())\n",
    "                    # RMS Prop componenet. (Exponential MA of squared gradients). Denominator.\n",
    "                    state['exp_avg_sq'] = torch.zeros_like(p.data)\n",
    "                    \n",
    "                exp_avg, exp_avg_sq = state['exp_avg'], state['exp_avg_sq']\n",
    "\n",
    "                b1, b2 = group['betas']\n",
    "                state['step'] += 1\n",
    "                \n",
    "                # L2 penalty. Gotta add to Gradient as well.\n",
    "                if group['weight_decay'] != 0:\n",
    "                    grad = grad.add(group['weight_decay'], p.data)\n",
    "\n",
    "                # Momentum\n",
    "                exp_avg = torch.mul(exp_avg, b1) + (1 - b1)*grad\n",
    "                # RMS\n",
    "                exp_avg_sq = torch.mul(exp_avg_sq, b2) + (1-b2)*(grad*grad)\n",
    "                \n",
    "                denom = exp_avg_sq.sqrt() + group['eps']\n",
    "\n",
    "                bias_correction1 = 1 / (1 - b1 ** state['step'])\n",
    "                bias_correction2 = 1 / (1 - b2 ** state['step'])\n",
    "                \n",
    "                adapted_learning_rate = group['lr'] * bias_correction1 / math.sqrt(bias_correction2)\n",
    "\n",
    "                p.data = p.data - adapted_learning_rate * exp_avg / denom \n",
    "\n",
    "        return loss\n",
    "\n",
    "class SgdOptimizer(Optimizer):\n",
    "    \"\"\"Implements SGD Algorithm\n",
    "    The Nesterov version can be performed by choosing input argument\n",
    "    \"\"\"\n",
    "    def __init__(self, \n",
    "        params, \n",
    "        lr=1e-3, \n",
    "        momentum=0, \n",
    "        dampening=0,\n",
    "        weight_decay=0, \n",
    "        nesterov=False):\n",
    "\n",
    "        defaults = dict(lr=lr, momentum=momentum,\n",
    "                        dampening=dampening,\n",
    "                        weight_decay=weight_decay, \n",
    "                        nesterov=nesterov)\n",
    "\n",
    "        super(SgdOptimizer, self).__init__(params, defaults)\n",
    "\n",
    "    def step(self):\n",
    "        loss = None\n",
    "        for group in self.param_groups:\n",
    "            weight_decay = group['weight_decay']\n",
    "            momentum = group['momentum']\n",
    "            dampening = group['dampening']\n",
    "            nesterov = group['nesterov']\n",
    "\n",
    "            for p in group['params']:\n",
    "                if p.grad is None:\n",
    "                    continue\n",
    "                d_p = p.grad.data\n",
    "                if weight_decay != 0:\n",
    "                    d_p.add_(weight_decay, p.data)\n",
    "                if momentum != 0:\n",
    "                    param_state = self.state[p]\n",
    "                    if 'momentum_buffer' not in param_state:\n",
    "                        buf = param_state['momentum_buffer'] = torch.zeros_like(p.data)\n",
    "                        buf.mul_(momentum).add_(d_p)\n",
    "                    else:\n",
    "                        buf = param_state['momentum_buffer']\n",
    "                        buf.mul_(momentum).add_(1 - dampening, d_p)\n",
    "                    if nesterov:\n",
    "                        d_p = d_p.add(momentum, buf)\n",
    "                    else:\n",
    "                        d_p = buf\n",
    "\n",
    "                p.data.add_(-group['lr'], d_p)\n",
    "\n",
    "        return loss"
   ]
  },
  {
   "cell_type": "code",
   "execution_count": 5,
   "id": "8a630c7c",
   "metadata": {
    "execution": {
     "iopub.execute_input": "2022-12-30T10:11:38.249616Z",
     "iopub.status.busy": "2022-12-30T10:11:38.249067Z",
     "iopub.status.idle": "2022-12-30T10:11:38.254723Z",
     "shell.execute_reply": "2022-12-30T10:11:38.253696Z"
    },
    "papermill": {
     "duration": 0.012566,
     "end_time": "2022-12-30T10:11:38.256845",
     "exception": false,
     "start_time": "2022-12-30T10:11:38.244279",
     "status": "completed"
    },
    "tags": []
   },
   "outputs": [],
   "source": [
    "class TrainingArgs:\n",
    "    def __init__(self):\n",
    "        self.lr = 1e-3\n",
    "        self.num_epochs = 50\n",
    "        self.input_size = (1,28,28)\n",
    "        self.num_classes = 10\n",
    "        self.batch_norm = True\n",
    "        # self.pretrained = True\n",
    "        self.nesterov = True\n",
    "        self.weight_decay = 1e-5\n",
    "        self.use_early_stopping = True\n",
    "args = TrainingArgs()"
   ]
  },
  {
   "cell_type": "code",
   "execution_count": 6,
   "id": "75cec701",
   "metadata": {
    "execution": {
     "iopub.execute_input": "2022-12-30T10:11:38.265558Z",
     "iopub.status.busy": "2022-12-30T10:11:38.265286Z",
     "iopub.status.idle": "2022-12-30T10:11:41.255914Z",
     "shell.execute_reply": "2022-12-30T10:11:41.254927Z"
    },
    "id": "HU_g5HWK6Eej",
    "papermill": {
     "duration": 2.997615,
     "end_time": "2022-12-30T10:11:41.258285",
     "exception": false,
     "start_time": "2022-12-30T10:11:38.260670",
     "status": "completed"
    },
    "tags": []
   },
   "outputs": [],
   "source": [
    "device = torch.device('cuda' if torch.cuda.is_available() else 'cpu')\n",
    "model = VGG16(args).to(device)\n",
    "\n",
    "criterion = nn.CrossEntropyLoss()\n",
    "optim = SgdOptimizer(model.parameters(), lr=args.lr, nesterov=args.nesterov, weight_decay=args.weight_decay)"
   ]
  },
  {
   "cell_type": "code",
   "execution_count": 7,
   "id": "275f2290",
   "metadata": {
    "execution": {
     "iopub.execute_input": "2022-12-30T10:11:41.268076Z",
     "iopub.status.busy": "2022-12-30T10:11:41.267288Z",
     "iopub.status.idle": "2022-12-30T10:11:41.274570Z",
     "shell.execute_reply": "2022-12-30T10:11:41.273656Z"
    },
    "id": "1uDFDSSGaok5",
    "outputId": "35c7dfac-ad60-4789-eb81-08f42f0f5e22",
    "papermill": {
     "duration": 0.014263,
     "end_time": "2022-12-30T10:11:41.276715",
     "exception": false,
     "start_time": "2022-12-30T10:11:41.262452",
     "status": "completed"
    },
    "tags": []
   },
   "outputs": [
    {
     "name": "stdout",
     "output_type": "stream",
     "text": [
      "Total parameters:  4853578\n"
     ]
    }
   ],
   "source": [
    "def count_parameters(model):\n",
    "    return sum(p.numel() for p in model.parameters() if p.requires_grad)\n",
    "print(\"Total parameters: \", count_parameters(model))"
   ]
  },
  {
   "cell_type": "code",
   "execution_count": 8,
   "id": "2675c06d",
   "metadata": {
    "execution": {
     "iopub.execute_input": "2022-12-30T10:11:41.285689Z",
     "iopub.status.busy": "2022-12-30T10:11:41.285379Z",
     "iopub.status.idle": "2022-12-30T10:26:55.737413Z",
     "shell.execute_reply": "2022-12-30T10:26:55.736394Z"
    },
    "id": "E1PPwe5a6ZVt",
    "outputId": "209da9ae-2be4-4a72-eb3d-cabc5c8b003d",
    "papermill": {
     "duration": 914.458849,
     "end_time": "2022-12-30T10:26:55.739482",
     "exception": false,
     "start_time": "2022-12-30T10:11:41.280633",
     "status": "completed"
    },
    "tags": []
   },
   "outputs": [
    {
     "name": "stderr",
     "output_type": "stream",
     "text": [
      "  0%|          | 0/313 [00:00<?, ?it/s]/opt/conda/lib/python3.7/site-packages/ipykernel_launcher.py:87: UserWarning: This overload of add_ is deprecated:\n",
      "\tadd_(Number alpha, Tensor other)\n",
      "Consider using one of the following signatures instead:\n",
      "\tadd_(Tensor other, *, Number alpha) (Triggered internally at  /usr/local/src/pytorch/torch/csrc/utils/python_arg_parser.cpp:1055.)\n",
      "(Train) Epoch [0/50]: 100%|██████████| 313/313 [00:21<00:00, 14.58it/s, train_acc=0.312, train_loss=2]\n",
      "(Val) Epoch [0/50]: 100%|██████████| 157/157 [00:03<00:00, 46.83it/s, val_acc=0.562, val_loss=2]\n"
     ]
    },
    {
     "name": "stdout",
     "output_type": "stream",
     "text": [
      ">> Epoch [1/50]:\tTrain loss = 2.19815 | Val loss = 1.93989,                \t Train Acc = 0.20902 | Val Acc = 0.63854\n",
      ">> Saving The Model Checkpoint\n"
     ]
    },
    {
     "name": "stderr",
     "output_type": "stream",
     "text": [
      "(Train) Epoch [1/50]: 100%|██████████| 313/313 [00:15<00:00, 20.76it/s, train_acc=0.391, train_loss=1.8]\n",
      "(Val) Epoch [1/50]: 100%|██████████| 157/157 [00:03<00:00, 50.98it/s, val_acc=0.75, val_loss=1.46]\n"
     ]
    },
    {
     "name": "stdout",
     "output_type": "stream",
     "text": [
      ">> Epoch [2/50]:\tTrain loss = 1.82579 | Val loss = 1.34378,                \t Train Acc = 0.41242 | Val Acc = 0.82733\n",
      ">> Saving The Model Checkpoint\n"
     ]
    },
    {
     "name": "stderr",
     "output_type": "stream",
     "text": [
      "(Train) Epoch [2/50]: 100%|██████████| 313/313 [00:15<00:00, 20.71it/s, train_acc=0.656, train_loss=1.14]\n",
      "(Val) Epoch [2/50]: 100%|██████████| 157/157 [00:03<00:00, 46.10it/s, val_acc=1, val_loss=0.843]\n"
     ]
    },
    {
     "name": "stdout",
     "output_type": "stream",
     "text": [
      ">> Epoch [3/50]:\tTrain loss = 1.37386 | Val loss = 0.78833,                \t Train Acc = 0.58768 | Val Acc = 0.92088\n",
      ">> Saving The Model Checkpoint\n"
     ]
    },
    {
     "name": "stderr",
     "output_type": "stream",
     "text": [
      "(Train) Epoch [3/50]: 100%|██████████| 313/313 [00:14<00:00, 21.06it/s, train_acc=0.797, train_loss=0.908]\n",
      "(Val) Epoch [3/50]: 100%|██████████| 157/157 [00:03<00:00, 51.94it/s, val_acc=1, val_loss=0.446]\n"
     ]
    },
    {
     "name": "stdout",
     "output_type": "stream",
     "text": [
      ">> Epoch [4/50]:\tTrain loss = 0.98781 | Val loss = 0.42935,                \t Train Acc = 0.71937 | Val Acc = 0.95034\n",
      ">> Saving The Model Checkpoint\n"
     ]
    },
    {
     "name": "stderr",
     "output_type": "stream",
     "text": [
      "(Train) Epoch [4/50]: 100%|██████████| 313/313 [00:14<00:00, 20.89it/s, train_acc=0.859, train_loss=0.579]\n",
      "(Val) Epoch [4/50]: 100%|██████████| 157/157 [00:02<00:00, 52.79it/s, val_acc=1, val_loss=0.25]\n"
     ]
    },
    {
     "name": "stdout",
     "output_type": "stream",
     "text": [
      ">> Epoch [5/50]:\tTrain loss = 0.72550 | Val loss = 0.25456,                \t Train Acc = 0.79927 | Val Acc = 0.96139\n",
      ">> Saving The Model Checkpoint\n"
     ]
    },
    {
     "name": "stderr",
     "output_type": "stream",
     "text": [
      "(Train) Epoch [5/50]: 100%|██████████| 313/313 [00:14<00:00, 21.67it/s, train_acc=0.844, train_loss=0.639]\n",
      "(Val) Epoch [5/50]: 100%|██████████| 157/157 [00:03<00:00, 48.52it/s, val_acc=0.938, val_loss=0.179]\n"
     ]
    },
    {
     "name": "stdout",
     "output_type": "stream",
     "text": [
      ">> Epoch [6/50]:\tTrain loss = 0.55188 | Val loss = 0.17324,                \t Train Acc = 0.85271 | Val Acc = 0.96746\n",
      ">> Saving The Model Checkpoint\n"
     ]
    },
    {
     "name": "stderr",
     "output_type": "stream",
     "text": [
      "(Train) Epoch [6/50]: 100%|██████████| 313/313 [00:14<00:00, 20.98it/s, train_acc=0.938, train_loss=0.357]\n",
      "(Val) Epoch [6/50]: 100%|██████████| 157/157 [00:03<00:00, 52.14it/s, val_acc=0.938, val_loss=0.145]\n"
     ]
    },
    {
     "name": "stdout",
     "output_type": "stream",
     "text": [
      ">> Epoch [7/50]:\tTrain loss = 0.43987 | Val loss = 0.13106,                \t Train Acc = 0.88576 | Val Acc = 0.97174\n",
      ">> Saving The Model Checkpoint\n"
     ]
    },
    {
     "name": "stderr",
     "output_type": "stream",
     "text": [
      "(Train) Epoch [7/50]: 100%|██████████| 313/313 [00:14<00:00, 21.47it/s, train_acc=0.844, train_loss=0.589]\n",
      "(Val) Epoch [7/50]: 100%|██████████| 157/157 [00:03<00:00, 47.21it/s, val_acc=0.938, val_loss=0.119]\n"
     ]
    },
    {
     "name": "stdout",
     "output_type": "stream",
     "text": [
      ">> Epoch [8/50]:\tTrain loss = 0.36831 | Val loss = 0.10518,                \t Train Acc = 0.90650 | Val Acc = 0.97472\n",
      ">> Saving The Model Checkpoint\n"
     ]
    },
    {
     "name": "stderr",
     "output_type": "stream",
     "text": [
      "(Train) Epoch [8/50]: 100%|██████████| 313/313 [00:14<00:00, 21.42it/s, train_acc=0.938, train_loss=0.254]\n",
      "(Val) Epoch [8/50]: 100%|██████████| 157/157 [00:02<00:00, 53.87it/s, val_acc=0.938, val_loss=0.138]\n"
     ]
    },
    {
     "name": "stdout",
     "output_type": "stream",
     "text": [
      ">> Epoch [9/50]:\tTrain loss = 0.31387 | Val loss = 0.08917,                \t Train Acc = 0.91873 | Val Acc = 0.97711\n",
      ">> Saving The Model Checkpoint\n"
     ]
    },
    {
     "name": "stderr",
     "output_type": "stream",
     "text": [
      "(Train) Epoch [9/50]: 100%|██████████| 313/313 [00:15<00:00, 20.79it/s, train_acc=0.938, train_loss=0.234]\n",
      "(Val) Epoch [9/50]: 100%|██████████| 157/157 [00:03<00:00, 51.91it/s, val_acc=0.938, val_loss=0.133]\n"
     ]
    },
    {
     "name": "stdout",
     "output_type": "stream",
     "text": [
      ">> Epoch [10/50]:\tTrain loss = 0.27153 | Val loss = 0.07923,                \t Train Acc = 0.93094 | Val Acc = 0.97880\n",
      ">> Saving The Model Checkpoint\n"
     ]
    },
    {
     "name": "stderr",
     "output_type": "stream",
     "text": [
      "(Train) Epoch [10/50]: 100%|██████████| 313/313 [00:14<00:00, 21.58it/s, train_acc=0.969, train_loss=0.194]\n",
      "(Val) Epoch [10/50]: 100%|██████████| 157/157 [00:03<00:00, 49.75it/s, val_acc=0.938, val_loss=0.135]\n"
     ]
    },
    {
     "name": "stdout",
     "output_type": "stream",
     "text": [
      ">> Epoch [11/50]:\tTrain loss = 0.23786 | Val loss = 0.07200,                \t Train Acc = 0.93982 | Val Acc = 0.97900\n",
      ">> Saving The Model Checkpoint\n"
     ]
    },
    {
     "name": "stderr",
     "output_type": "stream",
     "text": [
      "(Train) Epoch [11/50]: 100%|██████████| 313/313 [00:15<00:00, 20.43it/s, train_acc=0.938, train_loss=0.224]\n",
      "(Val) Epoch [11/50]: 100%|██████████| 157/157 [00:03<00:00, 51.75it/s, val_acc=0.938, val_loss=0.143]\n"
     ]
    },
    {
     "name": "stdout",
     "output_type": "stream",
     "text": [
      ">> Epoch [12/50]:\tTrain loss = 0.21842 | Val loss = 0.06531,                \t Train Acc = 0.94631 | Val Acc = 0.98159\n",
      ">> Saving The Model Checkpoint\n"
     ]
    },
    {
     "name": "stderr",
     "output_type": "stream",
     "text": [
      "(Train) Epoch [12/50]: 100%|██████████| 313/313 [00:14<00:00, 21.40it/s, train_acc=0.953, train_loss=0.28]\n",
      "(Val) Epoch [12/50]: 100%|██████████| 157/157 [00:02<00:00, 52.51it/s, val_acc=0.938, val_loss=0.166]\n"
     ]
    },
    {
     "name": "stdout",
     "output_type": "stream",
     "text": [
      ">> Epoch [13/50]:\tTrain loss = 0.19623 | Val loss = 0.06130,                \t Train Acc = 0.95028 | Val Acc = 0.98229\n",
      ">> Saving The Model Checkpoint\n"
     ]
    },
    {
     "name": "stderr",
     "output_type": "stream",
     "text": [
      "(Train) Epoch [13/50]: 100%|██████████| 313/313 [00:15<00:00, 19.92it/s, train_acc=0.984, train_loss=0.0996]\n",
      "(Val) Epoch [13/50]: 100%|██████████| 157/157 [00:03<00:00, 49.37it/s, val_acc=0.938, val_loss=0.142]\n"
     ]
    },
    {
     "name": "stdout",
     "output_type": "stream",
     "text": [
      ">> Epoch [14/50]:\tTrain loss = 0.18088 | Val loss = 0.05733,                \t Train Acc = 0.95545 | Val Acc = 0.98348\n",
      ">> Saving The Model Checkpoint\n"
     ]
    },
    {
     "name": "stderr",
     "output_type": "stream",
     "text": [
      "(Train) Epoch [14/50]: 100%|██████████| 313/313 [00:14<00:00, 21.68it/s, train_acc=0.984, train_loss=0.0837]\n",
      "(Val) Epoch [14/50]: 100%|██████████| 157/157 [00:03<00:00, 44.57it/s, val_acc=0.938, val_loss=0.145]\n"
     ]
    },
    {
     "name": "stdout",
     "output_type": "stream",
     "text": [
      ">> Epoch [15/50]:\tTrain loss = 0.16408 | Val loss = 0.05408,                \t Train Acc = 0.95986 | Val Acc = 0.98408\n",
      ">> Saving The Model Checkpoint\n"
     ]
    },
    {
     "name": "stderr",
     "output_type": "stream",
     "text": [
      "(Train) Epoch [15/50]: 100%|██████████| 313/313 [00:14<00:00, 20.97it/s, train_acc=0.969, train_loss=0.154]\n",
      "(Val) Epoch [15/50]: 100%|██████████| 157/157 [00:02<00:00, 53.01it/s, val_acc=0.938, val_loss=0.156]\n"
     ]
    },
    {
     "name": "stdout",
     "output_type": "stream",
     "text": [
      ">> Epoch [16/50]:\tTrain loss = 0.15261 | Val loss = 0.05230,                \t Train Acc = 0.96261 | Val Acc = 0.98487\n",
      ">> Saving The Model Checkpoint\n"
     ]
    },
    {
     "name": "stderr",
     "output_type": "stream",
     "text": [
      "(Train) Epoch [16/50]: 100%|██████████| 313/313 [00:15<00:00, 20.63it/s, train_acc=0.938, train_loss=0.134]\n",
      "(Val) Epoch [16/50]: 100%|██████████| 157/157 [00:03<00:00, 49.83it/s, val_acc=0.938, val_loss=0.173]\n"
     ]
    },
    {
     "name": "stdout",
     "output_type": "stream",
     "text": [
      ">> Epoch [17/50]:\tTrain loss = 0.14276 | Val loss = 0.04920,                \t Train Acc = 0.96563 | Val Acc = 0.98597\n",
      ">> Saving The Model Checkpoint\n"
     ]
    },
    {
     "name": "stderr",
     "output_type": "stream",
     "text": [
      "(Train) Epoch [17/50]: 100%|██████████| 313/313 [00:14<00:00, 21.60it/s, train_acc=1, train_loss=0.0514]\n",
      "(Val) Epoch [17/50]: 100%|██████████| 157/157 [00:03<00:00, 51.74it/s, val_acc=0.938, val_loss=0.172]\n"
     ]
    },
    {
     "name": "stdout",
     "output_type": "stream",
     "text": [
      ">> Epoch [18/50]:\tTrain loss = 0.13006 | Val loss = 0.04869,                \t Train Acc = 0.96733 | Val Acc = 0.98637\n",
      ">> Saving The Model Checkpoint\n"
     ]
    },
    {
     "name": "stderr",
     "output_type": "stream",
     "text": [
      "(Train) Epoch [18/50]: 100%|██████████| 313/313 [00:15<00:00, 20.12it/s, train_acc=0.984, train_loss=0.0955]\n",
      "(Val) Epoch [18/50]: 100%|██████████| 157/157 [00:03<00:00, 52.19it/s, val_acc=0.938, val_loss=0.185]\n"
     ]
    },
    {
     "name": "stdout",
     "output_type": "stream",
     "text": [
      ">> Epoch [19/50]:\tTrain loss = 0.12328 | Val loss = 0.04716,                \t Train Acc = 0.97090 | Val Acc = 0.98637\n",
      ">> Saving The Model Checkpoint\n"
     ]
    },
    {
     "name": "stderr",
     "output_type": "stream",
     "text": [
      "(Train) Epoch [19/50]: 100%|██████████| 313/313 [00:14<00:00, 21.49it/s, train_acc=0.984, train_loss=0.0748]\n",
      "(Val) Epoch [19/50]: 100%|██████████| 157/157 [00:03<00:00, 48.50it/s, val_acc=0.938, val_loss=0.147]\n"
     ]
    },
    {
     "name": "stdout",
     "output_type": "stream",
     "text": [
      ">> Epoch [20/50]:\tTrain loss = 0.11602 | Val loss = 0.04441,                \t Train Acc = 0.97279 | Val Acc = 0.98716\n",
      ">> Saving The Model Checkpoint\n"
     ]
    },
    {
     "name": "stderr",
     "output_type": "stream",
     "text": [
      "(Train) Epoch [20/50]: 100%|██████████| 313/313 [00:15<00:00, 20.76it/s, train_acc=1, train_loss=0.0372]\n",
      "(Val) Epoch [20/50]: 100%|██████████| 157/157 [00:02<00:00, 53.20it/s, val_acc=0.938, val_loss=0.172]\n"
     ]
    },
    {
     "name": "stdout",
     "output_type": "stream",
     "text": [
      ">> Epoch [21/50]:\tTrain loss = 0.10884 | Val loss = 0.04390,                \t Train Acc = 0.97352 | Val Acc = 0.98726\n",
      ">> Saving The Model Checkpoint\n"
     ]
    },
    {
     "name": "stderr",
     "output_type": "stream",
     "text": [
      "(Train) Epoch [21/50]: 100%|██████████| 313/313 [00:14<00:00, 21.46it/s, train_acc=1, train_loss=0.0731]\n",
      "(Val) Epoch [21/50]: 100%|██████████| 157/157 [00:03<00:00, 43.77it/s, val_acc=0.938, val_loss=0.185]\n"
     ]
    },
    {
     "name": "stdout",
     "output_type": "stream",
     "text": [
      ">> Epoch [22/50]:\tTrain loss = 0.10115 | Val loss = 0.04298,                \t Train Acc = 0.97509 | Val Acc = 0.98736\n",
      ">> Saving The Model Checkpoint\n"
     ]
    },
    {
     "name": "stderr",
     "output_type": "stream",
     "text": [
      "(Train) Epoch [22/50]: 100%|██████████| 313/313 [00:14<00:00, 21.01it/s, train_acc=0.938, train_loss=0.159]\n",
      "(Val) Epoch [22/50]: 100%|██████████| 157/157 [00:03<00:00, 50.76it/s, val_acc=0.938, val_loss=0.169]\n"
     ]
    },
    {
     "name": "stdout",
     "output_type": "stream",
     "text": [
      ">> Epoch [23/50]:\tTrain loss = 0.09638 | Val loss = 0.04273,                \t Train Acc = 0.97744 | Val Acc = 0.98746\n",
      ">> Saving The Model Checkpoint\n"
     ]
    },
    {
     "name": "stderr",
     "output_type": "stream",
     "text": [
      "(Train) Epoch [23/50]: 100%|██████████| 313/313 [00:15<00:00, 20.22it/s, train_acc=1, train_loss=0.0447]\n",
      "(Val) Epoch [23/50]: 100%|██████████| 157/157 [00:03<00:00, 51.50it/s, val_acc=0.938, val_loss=0.153]\n"
     ]
    },
    {
     "name": "stdout",
     "output_type": "stream",
     "text": [
      ">> Epoch [24/50]:\tTrain loss = 0.09142 | Val loss = 0.04029,                \t Train Acc = 0.97866 | Val Acc = 0.98816\n",
      ">> Saving The Model Checkpoint\n"
     ]
    },
    {
     "name": "stderr",
     "output_type": "stream",
     "text": [
      "(Train) Epoch [24/50]: 100%|██████████| 313/313 [00:14<00:00, 21.60it/s, train_acc=0.984, train_loss=0.0746]\n",
      "(Val) Epoch [24/50]: 100%|██████████| 157/157 [00:03<00:00, 50.04it/s, val_acc=0.938, val_loss=0.198]\n"
     ]
    },
    {
     "name": "stdout",
     "output_type": "stream",
     "text": [
      ">> Epoch [25/50]:\tTrain loss = 0.08444 | Val loss = 0.04146,                \t Train Acc = 0.97968 | Val Acc = 0.98776\n"
     ]
    },
    {
     "name": "stderr",
     "output_type": "stream",
     "text": [
      "(Train) Epoch [25/50]: 100%|██████████| 313/313 [00:15<00:00, 20.04it/s, train_acc=1, train_loss=0.0476]\n",
      "(Val) Epoch [25/50]: 100%|██████████| 157/157 [00:03<00:00, 49.91it/s, val_acc=0.938, val_loss=0.185]\n"
     ]
    },
    {
     "name": "stdout",
     "output_type": "stream",
     "text": [
      ">> Epoch [26/50]:\tTrain loss = 0.07988 | Val loss = 0.04053,                \t Train Acc = 0.98098 | Val Acc = 0.98895\n"
     ]
    },
    {
     "name": "stderr",
     "output_type": "stream",
     "text": [
      "(Train) Epoch [26/50]: 100%|██████████| 313/313 [00:14<00:00, 21.74it/s, train_acc=0.953, train_loss=0.151]\n",
      "(Val) Epoch [26/50]: 100%|██████████| 157/157 [00:02<00:00, 52.82it/s, val_acc=0.938, val_loss=0.183]\n"
     ]
    },
    {
     "name": "stdout",
     "output_type": "stream",
     "text": [
      ">> Epoch [27/50]:\tTrain loss = 0.07928 | Val loss = 0.03976,                \t Train Acc = 0.98058 | Val Acc = 0.98816\n",
      ">> Saving The Model Checkpoint\n"
     ]
    },
    {
     "name": "stderr",
     "output_type": "stream",
     "text": [
      "(Train) Epoch [27/50]: 100%|██████████| 313/313 [00:15<00:00, 20.58it/s, train_acc=0.969, train_loss=0.109]\n",
      "(Val) Epoch [27/50]: 100%|██████████| 157/157 [00:03<00:00, 52.30it/s, val_acc=0.938, val_loss=0.189]\n"
     ]
    },
    {
     "name": "stdout",
     "output_type": "stream",
     "text": [
      ">> Epoch [28/50]:\tTrain loss = 0.07003 | Val loss = 0.03949,                \t Train Acc = 0.98430 | Val Acc = 0.98915\n",
      ">> Saving The Model Checkpoint\n"
     ]
    },
    {
     "name": "stderr",
     "output_type": "stream",
     "text": [
      "(Train) Epoch [28/50]: 100%|██████████| 313/313 [00:14<00:00, 21.09it/s, train_acc=0.984, train_loss=0.0522]\n",
      "(Val) Epoch [28/50]: 100%|██████████| 157/157 [00:03<00:00, 51.73it/s, val_acc=0.938, val_loss=0.192]\n"
     ]
    },
    {
     "name": "stdout",
     "output_type": "stream",
     "text": [
      ">> Epoch [29/50]:\tTrain loss = 0.07077 | Val loss = 0.03965,                \t Train Acc = 0.98305 | Val Acc = 0.98826\n"
     ]
    },
    {
     "name": "stderr",
     "output_type": "stream",
     "text": [
      "(Train) Epoch [29/50]: 100%|██████████| 313/313 [00:15<00:00, 20.63it/s, train_acc=0.984, train_loss=0.121]\n",
      "(Val) Epoch [29/50]: 100%|██████████| 157/157 [00:03<00:00, 50.65it/s, val_acc=0.938, val_loss=0.184]\n"
     ]
    },
    {
     "name": "stdout",
     "output_type": "stream",
     "text": [
      ">> Epoch [30/50]:\tTrain loss = 0.06906 | Val loss = 0.03746,                \t Train Acc = 0.98423 | Val Acc = 0.98965\n",
      ">> Saving The Model Checkpoint\n"
     ]
    },
    {
     "name": "stderr",
     "output_type": "stream",
     "text": [
      "(Train) Epoch [30/50]: 100%|██████████| 313/313 [00:14<00:00, 21.05it/s, train_acc=0.969, train_loss=0.104]\n",
      "(Val) Epoch [30/50]: 100%|██████████| 157/157 [00:03<00:00, 43.87it/s, val_acc=0.938, val_loss=0.227]\n"
     ]
    },
    {
     "name": "stdout",
     "output_type": "stream",
     "text": [
      ">> Epoch [31/50]:\tTrain loss = 0.06505 | Val loss = 0.03878,                \t Train Acc = 0.98470 | Val Acc = 0.98855\n"
     ]
    },
    {
     "name": "stderr",
     "output_type": "stream",
     "text": [
      "(Train) Epoch [31/50]: 100%|██████████| 313/313 [00:14<00:00, 21.16it/s, train_acc=0.969, train_loss=0.119]\n",
      "(Val) Epoch [31/50]: 100%|██████████| 157/157 [00:02<00:00, 52.58it/s, val_acc=0.938, val_loss=0.213]\n"
     ]
    },
    {
     "name": "stdout",
     "output_type": "stream",
     "text": [
      ">> Epoch [32/50]:\tTrain loss = 0.06234 | Val loss = 0.03845,                \t Train Acc = 0.98582 | Val Acc = 0.98895\n"
     ]
    },
    {
     "name": "stderr",
     "output_type": "stream",
     "text": [
      "(Train) Epoch [32/50]: 100%|██████████| 313/313 [00:15<00:00, 20.50it/s, train_acc=1, train_loss=0.0393]\n",
      "(Val) Epoch [32/50]: 100%|██████████| 157/157 [00:03<00:00, 46.92it/s, val_acc=0.938, val_loss=0.197]\n"
     ]
    },
    {
     "name": "stdout",
     "output_type": "stream",
     "text": [
      ">> Epoch [33/50]:\tTrain loss = 0.05866 | Val loss = 0.03824,                \t Train Acc = 0.98657 | Val Acc = 0.98975\n"
     ]
    },
    {
     "name": "stderr",
     "output_type": "stream",
     "text": [
      "(Train) Epoch [33/50]: 100%|██████████| 313/313 [00:14<00:00, 21.60it/s, train_acc=0.969, train_loss=0.0862]\n",
      "(Val) Epoch [33/50]: 100%|██████████| 157/157 [00:03<00:00, 44.64it/s, val_acc=0.938, val_loss=0.207]\n"
     ]
    },
    {
     "name": "stdout",
     "output_type": "stream",
     "text": [
      ">> Epoch [34/50]:\tTrain loss = 0.05566 | Val loss = 0.03809,                \t Train Acc = 0.98707 | Val Acc = 0.98955\n"
     ]
    },
    {
     "name": "stderr",
     "output_type": "stream",
     "text": [
      "(Train) Epoch [34/50]: 100%|██████████| 313/313 [00:15<00:00, 20.77it/s, train_acc=1, train_loss=0.0105]\n",
      "(Val) Epoch [34/50]: 100%|██████████| 157/157 [00:03<00:00, 51.79it/s, val_acc=0.938, val_loss=0.208]\n"
     ]
    },
    {
     "name": "stdout",
     "output_type": "stream",
     "text": [
      ">> Epoch [35/50]:\tTrain loss = 0.05572 | Val loss = 0.03780,                \t Train Acc = 0.98740 | Val Acc = 0.98945\n"
     ]
    },
    {
     "name": "stderr",
     "output_type": "stream",
     "text": [
      "(Train) Epoch [35/50]: 100%|██████████| 313/313 [00:15<00:00, 20.74it/s, train_acc=1, train_loss=0.0435]\n",
      "(Val) Epoch [35/50]: 100%|██████████| 157/157 [00:03<00:00, 51.25it/s, val_acc=0.938, val_loss=0.208]\n"
     ]
    },
    {
     "name": "stdout",
     "output_type": "stream",
     "text": [
      ">> Epoch [36/50]:\tTrain loss = 0.04947 | Val loss = 0.03750,                \t Train Acc = 0.98832 | Val Acc = 0.98955\n"
     ]
    },
    {
     "name": "stderr",
     "output_type": "stream",
     "text": [
      "(Train) Epoch [36/50]: 100%|██████████| 313/313 [00:15<00:00, 20.49it/s, train_acc=1, train_loss=0.0426]\n",
      "(Val) Epoch [36/50]: 100%|██████████| 157/157 [00:03<00:00, 45.77it/s, val_acc=0.938, val_loss=0.194]\n"
     ]
    },
    {
     "name": "stdout",
     "output_type": "stream",
     "text": [
      ">> Epoch [37/50]:\tTrain loss = 0.05207 | Val loss = 0.03723,                \t Train Acc = 0.98692 | Val Acc = 0.98905\n",
      ">> Saving The Model Checkpoint\n"
     ]
    },
    {
     "name": "stderr",
     "output_type": "stream",
     "text": [
      "(Train) Epoch [37/50]: 100%|██████████| 313/313 [00:14<00:00, 21.06it/s, train_acc=0.969, train_loss=0.123]\n",
      "(Val) Epoch [37/50]: 100%|██████████| 157/157 [00:02<00:00, 53.82it/s, val_acc=0.938, val_loss=0.222]\n"
     ]
    },
    {
     "name": "stdout",
     "output_type": "stream",
     "text": [
      ">> Epoch [38/50]:\tTrain loss = 0.04870 | Val loss = 0.03693,                \t Train Acc = 0.98829 | Val Acc = 0.98965\n",
      ">> Saving The Model Checkpoint\n"
     ]
    },
    {
     "name": "stderr",
     "output_type": "stream",
     "text": [
      "(Train) Epoch [38/50]: 100%|██████████| 313/313 [00:15<00:00, 20.42it/s, train_acc=1, train_loss=0.0244]\n",
      "(Val) Epoch [38/50]: 100%|██████████| 157/157 [00:02<00:00, 53.26it/s, val_acc=0.938, val_loss=0.212]\n"
     ]
    },
    {
     "name": "stdout",
     "output_type": "stream",
     "text": [
      ">> Epoch [39/50]:\tTrain loss = 0.04665 | Val loss = 0.03695,                \t Train Acc = 0.98914 | Val Acc = 0.98995\n"
     ]
    },
    {
     "name": "stderr",
     "output_type": "stream",
     "text": [
      "(Train) Epoch [39/50]: 100%|██████████| 313/313 [00:14<00:00, 21.57it/s, train_acc=1, train_loss=0.0321]\n",
      "(Val) Epoch [39/50]: 100%|██████████| 157/157 [00:03<00:00, 48.87it/s, val_acc=0.938, val_loss=0.209]\n"
     ]
    },
    {
     "name": "stdout",
     "output_type": "stream",
     "text": [
      ">> Epoch [40/50]:\tTrain loss = 0.04474 | Val loss = 0.03716,                \t Train Acc = 0.98947 | Val Acc = 0.98995\n"
     ]
    },
    {
     "name": "stderr",
     "output_type": "stream",
     "text": [
      "(Train) Epoch [40/50]: 100%|██████████| 313/313 [00:15<00:00, 20.56it/s, train_acc=1, train_loss=0.0185]\n",
      "(Val) Epoch [40/50]: 100%|██████████| 157/157 [00:03<00:00, 46.31it/s, val_acc=0.938, val_loss=0.197]\n"
     ]
    },
    {
     "name": "stdout",
     "output_type": "stream",
     "text": [
      ">> Epoch [41/50]:\tTrain loss = 0.04251 | Val loss = 0.03655,                \t Train Acc = 0.99084 | Val Acc = 0.99005\n",
      ">> Saving The Model Checkpoint\n"
     ]
    },
    {
     "name": "stderr",
     "output_type": "stream",
     "text": [
      "(Train) Epoch [41/50]: 100%|██████████| 313/313 [00:14<00:00, 21.33it/s, train_acc=0.922, train_loss=0.228]\n",
      "(Val) Epoch [41/50]: 100%|██████████| 157/157 [00:03<00:00, 46.80it/s, val_acc=0.938, val_loss=0.185]\n"
     ]
    },
    {
     "name": "stdout",
     "output_type": "stream",
     "text": [
      ">> Epoch [42/50]:\tTrain loss = 0.04144 | Val loss = 0.03610,                \t Train Acc = 0.99034 | Val Acc = 0.98975\n",
      ">> Saving The Model Checkpoint\n"
     ]
    },
    {
     "name": "stderr",
     "output_type": "stream",
     "text": [
      "(Train) Epoch [42/50]: 100%|██████████| 313/313 [00:15<00:00, 20.54it/s, train_acc=1, train_loss=0.0232]\n",
      "(Val) Epoch [42/50]: 100%|██████████| 157/157 [00:03<00:00, 49.23it/s, val_acc=0.938, val_loss=0.204]\n"
     ]
    },
    {
     "name": "stdout",
     "output_type": "stream",
     "text": [
      ">> Epoch [43/50]:\tTrain loss = 0.03937 | Val loss = 0.03704,                \t Train Acc = 0.99094 | Val Acc = 0.99015\n"
     ]
    },
    {
     "name": "stderr",
     "output_type": "stream",
     "text": [
      "(Train) Epoch [43/50]: 100%|██████████| 313/313 [00:14<00:00, 21.43it/s, train_acc=1, train_loss=0.016]\n",
      "(Val) Epoch [43/50]: 100%|██████████| 157/157 [00:03<00:00, 41.43it/s, val_acc=0.938, val_loss=0.185]\n"
     ]
    },
    {
     "name": "stdout",
     "output_type": "stream",
     "text": [
      ">> Epoch [44/50]:\tTrain loss = 0.03850 | Val loss = 0.03648,                \t Train Acc = 0.99086 | Val Acc = 0.99035\n"
     ]
    },
    {
     "name": "stderr",
     "output_type": "stream",
     "text": [
      "(Train) Epoch [44/50]: 100%|██████████| 313/313 [00:14<00:00, 21.09it/s, train_acc=0.969, train_loss=0.0412]\n",
      "(Val) Epoch [44/50]: 100%|██████████| 157/157 [00:02<00:00, 53.19it/s, val_acc=0.938, val_loss=0.243]\n"
     ]
    },
    {
     "name": "stdout",
     "output_type": "stream",
     "text": [
      ">> Epoch [45/50]:\tTrain loss = 0.03774 | Val loss = 0.03744,                \t Train Acc = 0.99129 | Val Acc = 0.98955\n"
     ]
    },
    {
     "name": "stderr",
     "output_type": "stream",
     "text": [
      "(Train) Epoch [45/50]: 100%|██████████| 313/313 [00:14<00:00, 20.95it/s, train_acc=0.984, train_loss=0.0394]\n",
      "(Val) Epoch [45/50]: 100%|██████████| 157/157 [00:03<00:00, 41.85it/s, val_acc=0.938, val_loss=0.186]\n"
     ]
    },
    {
     "name": "stdout",
     "output_type": "stream",
     "text": [
      ">> Epoch [46/50]:\tTrain loss = 0.03593 | Val loss = 0.03612,                \t Train Acc = 0.99171 | Val Acc = 0.99035\n"
     ]
    },
    {
     "name": "stderr",
     "output_type": "stream",
     "text": [
      "(Train) Epoch [46/50]: 100%|██████████| 313/313 [00:14<00:00, 21.57it/s, train_acc=0.984, train_loss=0.0939]\n",
      "(Val) Epoch [46/50]: 100%|██████████| 157/157 [00:02<00:00, 54.32it/s, val_acc=0.938, val_loss=0.143]\n"
     ]
    },
    {
     "name": "stdout",
     "output_type": "stream",
     "text": [
      ">> Epoch [47/50]:\tTrain loss = 0.03544 | Val loss = 0.03623,                \t Train Acc = 0.99211 | Val Acc = 0.99045\n"
     ]
    },
    {
     "name": "stderr",
     "output_type": "stream",
     "text": [
      "(Train) Epoch [47/50]: 100%|██████████| 313/313 [00:16<00:00, 19.20it/s, train_acc=1, train_loss=0.0258]\n",
      "(Val) Epoch [47/50]: 100%|██████████| 157/157 [00:02<00:00, 53.53it/s, val_acc=0.938, val_loss=0.19]\n"
     ]
    },
    {
     "name": "stdout",
     "output_type": "stream",
     "text": [
      ">> Epoch [48/50]:\tTrain loss = 0.03429 | Val loss = 0.03692,                \t Train Acc = 0.99231 | Val Acc = 0.99064\n"
     ]
    },
    {
     "name": "stderr",
     "output_type": "stream",
     "text": [
      "(Train) Epoch [48/50]: 100%|██████████| 313/313 [00:14<00:00, 21.93it/s, train_acc=0.969, train_loss=0.0582]\n",
      "(Val) Epoch [48/50]: 100%|██████████| 157/157 [00:03<00:00, 51.08it/s, val_acc=0.938, val_loss=0.205]\n"
     ]
    },
    {
     "name": "stdout",
     "output_type": "stream",
     "text": [
      ">> Epoch [49/50]:\tTrain loss = 0.03455 | Val loss = 0.03583,                \t Train Acc = 0.99189 | Val Acc = 0.99074\n",
      ">> Saving The Model Checkpoint\n"
     ]
    },
    {
     "name": "stderr",
     "output_type": "stream",
     "text": [
      "(Train) Epoch [49/50]: 100%|██████████| 313/313 [00:16<00:00, 19.44it/s, train_acc=1, train_loss=0.0127]\n",
      "(Val) Epoch [49/50]: 100%|██████████| 157/157 [00:02<00:00, 54.31it/s, val_acc=0.938, val_loss=0.202]"
     ]
    },
    {
     "name": "stdout",
     "output_type": "stream",
     "text": [
      ">> Epoch [50/50]:\tTrain loss = 0.03440 | Val loss = 0.03590,                \t Train Acc = 0.99129 | Val Acc = 0.99055\n"
     ]
    },
    {
     "name": "stderr",
     "output_type": "stream",
     "text": [
      "\n"
     ]
    }
   ],
   "source": [
    "history = {'acc': {'train': [], 'val': []}, \n",
    "    'loss': {'train': [], 'val': []}}\n",
    "min_val_loss = np.inf\n",
    "\n",
    "for epoch in range(args.num_epochs):\n",
    "    # Training\n",
    "    train_iterator = tqdm(train_loader, leave=True)\n",
    "    running_train_loss = 0.0\n",
    "    running_train_acc = 0.0\n",
    "    model.train()\n",
    "    for i, (images, labels) in enumerate(train_iterator):\n",
    "        images = images.to(device)\n",
    "        labels = labels.to(device)\n",
    "        # Forward pass\n",
    "        outputs = model(images)\n",
    "        loss = criterion(outputs, labels)\n",
    "        train_acc = ((outputs.argmax(dim=1) == labels).float().mean())        \n",
    "        # Backward pass\n",
    "        optim.zero_grad()\n",
    "        loss.backward()\n",
    "        optim.step()\n",
    "\n",
    "        # Gather training loss and acc\n",
    "        running_train_loss += loss.item()\n",
    "        running_train_acc += train_acc.item()\n",
    "        \n",
    "        train_iterator.set_description('(Train) Epoch [{}/{}]'.format(epoch, args.num_epochs))\n",
    "        train_iterator.set_postfix(train_loss=loss.item(), train_acc=train_acc.item())\n",
    "\n",
    "    epoch_train_loss = running_train_loss/len(train_loader)\n",
    "    epoch_train_acc = running_train_acc/len(train_loader)\n",
    "\n",
    "    history['acc']['train'].append(epoch_train_acc)\n",
    "    history['loss']['train'].append(epoch_train_loss)\n",
    "    \n",
    "    # Evaluation\n",
    "    val_iterator = tqdm(val_loader, leave=True)\n",
    "    running_val_loss = 0.0\n",
    "    running_val_acc = 0.0\n",
    "    model.eval()\n",
    "    for vidx, (val_images, val_labels) in enumerate(val_iterator):\n",
    "        with torch.no_grad():\n",
    "            val_images = val_images.to(device)\n",
    "            val_labels = val_labels.to(device)\n",
    "\n",
    "            val_outputs = model(val_images)\n",
    "            val_loss = criterion(val_outputs, val_labels)\n",
    "            val_acc = ((val_outputs.argmax(dim=1) == val_labels).float().mean())\n",
    "\n",
    "            running_val_loss += val_loss.item()\n",
    "            running_val_acc += val_acc.item()\n",
    "            \n",
    "            val_iterator.set_description('(Val) Epoch [{}/{}]'.format(epoch, args.num_epochs))\n",
    "            val_iterator.set_postfix(val_loss=val_loss.item(), val_acc=val_acc.item())\n",
    "            \n",
    "    epoch_val_acc = running_val_acc/len(val_loader)\n",
    "    epoch_val_loss = running_val_loss/len(val_loader)\n",
    "\n",
    "    history['acc']['val'].append(epoch_val_acc)\n",
    "    history['loss']['val'].append(epoch_val_loss)\n",
    "    \n",
    "    print(f'>> Epoch [{epoch+1}/{args.num_epochs}]:\\tTrain loss = {epoch_train_loss:.5f} | Val loss = {epoch_val_loss:.5f},\\\n",
    "                \\t Train Acc = {epoch_train_acc:.5f} | Val Acc = {epoch_val_acc:.5f}')\n",
    "    if epoch_val_loss < min_val_loss:\n",
    "        min_val_loss = epoch_val_loss\n",
    "        print(\">> Saving The Model Checkpoint\")\n",
    "        torch.save(\n",
    "            {\n",
    "                'model_config': model.config,\n",
    "                'model_state_dict': model.state_dict(),\n",
    "                'optim_state_dict': optim.state_dict(),\n",
    "                'history': history\n",
    "            }, './vgg16-sgd-mnist.pt'\n",
    "        )"
   ]
  },
  {
   "cell_type": "code",
   "execution_count": 9,
   "id": "7036964d",
   "metadata": {
    "execution": {
     "iopub.execute_input": "2022-12-30T10:27:01.899868Z",
     "iopub.status.busy": "2022-12-30T10:27:01.899169Z",
     "iopub.status.idle": "2022-12-30T10:27:02.329016Z",
     "shell.execute_reply": "2022-12-30T10:27:02.328100Z"
    },
    "papermill": {
     "duration": 3.436512,
     "end_time": "2022-12-30T10:27:02.331236",
     "exception": false,
     "start_time": "2022-12-30T10:26:58.894724",
     "status": "completed"
    },
    "tags": []
   },
   "outputs": [
    {
     "data": {
      "image/png": "[encoded data removed]",
      "text/plain": [
       "<Figure size 1440x432 with 2 Axes>"
      ]
     },
     "metadata": {
      "needs_background": "light"
     },
     "output_type": "display_data"
    }
   ],
   "source": [
    "import matplotlib.pyplot as plt\n",
    "fig, axs = plt.subplots(1,2, figsize=(20,6))\n",
    "\n",
    "axs[0].plot(np.arange(len(history['acc']['train'])), history['acc']['train'])\n",
    "axs[0].plot(np.arange(len(history['acc']['val'])), history['acc']['val'])\n",
    "axs[0].set_title('Model Accuracy', fontsize = 16)\n",
    "axs[0].set_ylabel('Accuracy', fontsize = 14)\n",
    "axs[0].set_xlabel('Epoch', fontsize = 14)\n",
    "axs[0].legend(['train-acc', 'val-acc'], loc='upper left', fontsize = 14)\n",
    "\n",
    "axs[1].plot(np.arange(len(history['loss']['train'])), history['loss']['train'])\n",
    "axs[1].plot(np.arange(len(history['loss']['val'])), history['loss']['val'])\n",
    "axs[1].set_title('Model Loss', fontsize = 16)\n",
    "axs[1].set_ylabel('Loss', fontsize = 14)\n",
    "axs[1].set_xlabel('Epoch', fontsize = 14)\n",
    "axs[1].legend(['train-loss', 'val-loss'], loc='upper left', fontsize = 14)\n",
    "\n",
    "plt.tight_layout()\n",
    "plt.show()"
   ]
  },
  {
   "cell_type": "code",
   "execution_count": 10,
   "id": "a886f5a3",
   "metadata": {
    "execution": {
     "iopub.execute_input": "2022-12-30T10:27:08.291023Z",
     "iopub.status.busy": "2022-12-30T10:27:08.290318Z",
     "iopub.status.idle": "2022-12-30T10:27:08.503670Z",
     "shell.execute_reply": "2022-12-30T10:27:08.502565Z"
    },
    "papermill": {
     "duration": 3.180571,
     "end_time": "2022-12-30T10:27:08.506361",
     "exception": false,
     "start_time": "2022-12-30T10:27:05.325790",
     "status": "completed"
    },
    "tags": []
   },
   "outputs": [],
   "source": [
    "best_model = VGG16.load('./vgg16-sgd-mnist.pt').to(device)"
   ]
  },
  {
   "cell_type": "code",
   "execution_count": 11,
   "id": "21be4705",
   "metadata": {
    "execution": {
     "iopub.execute_input": "2022-12-30T10:27:14.524158Z",
     "iopub.status.busy": "2022-12-30T10:27:14.523796Z",
     "iopub.status.idle": "2022-12-30T10:27:16.971236Z",
     "shell.execute_reply": "2022-12-30T10:27:16.967632Z"
    },
    "papermill": {
     "duration": 5.300087,
     "end_time": "2022-12-30T10:27:16.976307",
     "exception": false,
     "start_time": "2022-12-30T10:27:11.676220",
     "status": "completed"
    },
    "tags": []
   },
   "outputs": [
    {
     "name": "stderr",
     "output_type": "stream",
     "text": [
      "100%|██████████| 157/157 [00:02<00:00, 64.68it/s]"
     ]
    },
    {
     "name": "stdout",
     "output_type": "stream",
     "text": [
      ">> Result:\tTest loss = 0.03571 \t Test Acc = 0.99154\n"
     ]
    },
    {
     "name": "stderr",
     "output_type": "stream",
     "text": [
      "\n"
     ]
    }
   ],
   "source": [
    "best_model.eval()\n",
    "test_iterator = tqdm(test_loader, leave=True)\n",
    "running_test_loss, running_test_acc = 0.0, 0.0\n",
    "for tidx, (test_images, test_labels) in enumerate(test_iterator):\n",
    "    with torch.no_grad():\n",
    "        test_images = test_images.to(device)\n",
    "        test_labels = test_labels.to(device)\n",
    "\n",
    "        test_outputs = best_model(test_images)\n",
    "        test_loss = criterion(test_outputs, test_labels)\n",
    "        test_acc = ((test_outputs.argmax(dim=1) == test_labels).float().mean())\n",
    "\n",
    "        running_test_loss += test_loss.item()\n",
    "        running_test_acc += test_acc.item()\n",
    "\n",
    "        val_iterator.set_description('(Test)')\n",
    "        val_iterator.set_postfix(test_loss=test_loss.item(), test_acc=test_acc.item())\n",
    "\n",
    "total_test_acc = running_test_acc/len(test_loader)\n",
    "total_test_loss = running_test_loss/len(test_loader)\n",
    "\n",
    "print(f'>> Result:\\tTest loss = {total_test_loss:.5f} \\t Test Acc = {total_test_acc:.5f}')"
   ]
  }
 ],
 "metadata": {
  "kernelspec": {
   "display_name": "mlds",
   "language": "python",
   "name": "python3"
  },
  "language_info": {
   "codemirror_mode": {
    "name": "ipython",
    "version": 3
   },
   "file_extension": ".py",
   "mimetype": "text/x-python",
   "name": "python",
   "nbconvert_exporter": "python",
   "pygments_lexer": "ipython3",
   "version": "3.10.6 (main, Oct 24 2022, 16:07:47) [GCC 11.2.0]"
  },
  "papermill": {
   "default_parameters": {},
   "duration": 957.688002,
   "end_time": "2022-12-30T10:27:22.755577",
   "environment_variables": {},
   "exception": null,
   "input_path": "__notebook__.ipynb",
   "output_path": "__notebook__.ipynb",
   "parameters": {},
   "start_time": "2022-12-30T10:11:25.067575",
   "version": "2.3.4"
  },
  "vscode": {
   "interpreter": {
    "hash": "85bcb44eba574c0a47936c5b7bc1ac542d3063793dafd808afd17b1b395c8414"
   }
  },
  "widgets": {
   "application/vnd.jupyter.widget-state+json": {
    "state": {
     "0474ab1a06bb4a4aa9d84fbf0f7643c8": {
      "model_module": "@jupyter-widgets/controls",
      "model_module_version": "1.5.0",
      "model_name": "DescriptionStyleModel",
      "state": {
       "_model_module": "@jupyter-widgets/controls",
       "_model_module_version": "1.5.0",
       "_model_name": "DescriptionStyleModel",
       "_view_count": null,
       "_view_module": "@jupyter-widgets/base",
       "_view_module_version": "1.2.0",
       "_view_name": "StyleView",
       "description_width": ""
      }
     },
     "27d4925561eb409aa3f619fe60cf1045": {
      "model_module": "@jupyter-widgets/controls",
      "model_module_version": "1.5.0",
      "model_name": "ProgressStyleModel",
      "state": {
       "_model_module": "@jupyter-widgets/controls",
       "_model_module_version": "1.5.0",
       "_model_name": "ProgressStyleModel",
       "_view_count": null,
       "_view_module": "@jupyter-widgets/base",
       "_view_module_version": "1.2.0",
       "_view_name": "StyleView",
       "bar_color": null,
       "description_width": ""
      }
     },
     "2e68f9d402d64acfa935f793fea0e03d": {
      "model_module": "@jupyter-widgets/base",
      "model_module_version": "1.2.0",
      "model_name": "LayoutModel",
      "state": {
       "_model_module": "@jupyter-widgets/base",
       "_model_module_version": "1.2.0",
       "_model_name": "LayoutModel",
       "_view_count": null,
       "_view_module": "@jupyter-widgets/base",
       "_view_module_version": "1.2.0",
       "_view_name": "LayoutView",
       "align_content": null,
       "align_items": null,
       "align_self": null,
       "border": null,
       "bottom": null,
       "display": null,
       "flex": null,
       "flex_flow": null,
       "grid_area": null,
       "grid_auto_columns": null,
       "grid_auto_flow": null,
       "grid_auto_rows": null,
       "grid_column": null,
       "grid_gap": null,
       "grid_row": null,
       "grid_template_areas": null,
       "grid_template_columns": null,
       "grid_template_rows": null,
       "height": null,
       "justify_content": null,
       "justify_items": null,
       "left": null,
       "margin": null,
       "max_height": null,
       "max_width": null,
       "min_height": null,
       "min_width": null,
       "object_fit": null,
       "object_position": null,
       "order": null,
       "overflow": null,
       "overflow_x": null,
       "overflow_y": null,
       "padding": null,
       "right": null,
       "top": null,
       "visibility": null,
       "width": null
      }
     },
     "3649959d91ba468c9a84b6da1b8b7171": {
      "model_module": "@jupyter-widgets/base",
      "model_module_version": "1.2.0",
      "model_name": "LayoutModel",
      "state": {
       "_model_module": "@jupyter-widgets/base",
       "_model_module_version": "1.2.0",
       "_model_name": "LayoutModel",
       "_view_count": null,
       "_view_module": "@jupyter-widgets/base",
       "_view_module_version": "1.2.0",
       "_view_name": "LayoutView",
       "align_content": null,
       "align_items": null,
       "align_self": null,
       "border": null,
       "bottom": null,
       "display": null,
       "flex": null,
       "flex_flow": null,
       "grid_area": null,
       "grid_auto_columns": null,
       "grid_auto_flow": null,
       "grid_auto_rows": null,
       "grid_column": null,
       "grid_gap": null,
       "grid_row": null,
       "grid_template_areas": null,
       "grid_template_columns": null,
       "grid_template_rows": null,
       "height": null,
       "justify_content": null,
       "justify_items": null,
       "left": null,
       "margin": null,
       "max_height": null,
       "max_width": null,
       "min_height": null,
       "min_width": null,
       "object_fit": null,
       "object_position": null,
       "order": null,
       "overflow": null,
       "overflow_x": null,
       "overflow_y": null,
       "padding": null,
       "right": null,
       "top": null,
       "visibility": null,
       "width": null
      }
     },
     "3f9ffdb7a3994ffb83bd16ee3b19168f": {
      "model_module": "@jupyter-widgets/controls",
      "model_module_version": "1.5.0",
      "model_name": "ProgressStyleModel",
      "state": {
       "_model_module": "@jupyter-widgets/controls",
       "_model_module_version": "1.5.0",
       "_model_name": "ProgressStyleModel",
       "_view_count": null,
       "_view_module": "@jupyter-widgets/base",
       "_view_module_version": "1.2.0",
       "_view_name": "StyleView",
       "bar_color": null,
       "description_width": ""
      }
     },
     "45e4023876ea43d99bffa3f546217d7b": {
      "model_module": "@jupyter-widgets/controls",
      "model_module_version": "1.5.0",
      "model_name": "HTMLModel",
      "state": {
       "_dom_classes": [],
       "_model_module": "@jupyter-widgets/controls",
       "_model_module_version": "1.5.0",
       "_model_name": "HTMLModel",
       "_view_count": null,
       "_view_module": "@jupyter-widgets/controls",
       "_view_module_version": "1.5.0",
       "_view_name": "HTMLView",
       "description": "",
       "description_tooltip": null,
       "layout": "IPY_MODEL_e317c6ca76f64361a26a662e7936f8b9",
       "placeholder": "​",
       "style": "IPY_MODEL_f54b9859d90348e9abc3e869df8bbf27",
       "value": " 5120/? [00:00&lt;00:00, 182962.32it/s]"
      }
     },
     "48090c8056b14944b9c89566084c78a9": {
      "model_module": "@jupyter-widgets/base",
      "model_module_version": "1.2.0",
      "model_name": "LayoutModel",
      "state": {
       "_model_module": "@jupyter-widgets/base",
       "_model_module_version": "1.2.0",
       "_model_name": "LayoutModel",
       "_view_count": null,
       "_view_module": "@jupyter-widgets/base",
       "_view_module_version": "1.2.0",
       "_view_name": "LayoutView",
       "align_content": null,
       "align_items": null,
       "align_self": null,
       "border": null,
       "bottom": null,
       "display": null,
       "flex": null,
       "flex_flow": null,
       "grid_area": null,
       "grid_auto_columns": null,
       "grid_auto_flow": null,
       "grid_auto_rows": null,
       "grid_column": null,
       "grid_gap": null,
       "grid_row": null,
       "grid_template_areas": null,
       "grid_template_columns": null,
       "grid_template_rows": null,
       "height": null,
       "justify_content": null,
       "justify_items": null,
       "left": null,
       "margin": null,
       "max_height": null,
       "max_width": null,
       "min_height": null,
       "min_width": null,
       "object_fit": null,
       "object_position": null,
       "order": null,
       "overflow": null,
       "overflow_x": null,
       "overflow_y": null,
       "padding": null,
       "right": null,
       "top": null,
       "visibility": null,
       "width": null
      }
     },
     "4adbdfdff3e9473995cba64d88f4db12": {
      "model_module": "@jupyter-widgets/controls",
      "model_module_version": "1.5.0",
      "model_name": "FloatProgressModel",
      "state": {
       "_dom_classes": [],
       "_model_module": "@jupyter-widgets/controls",
       "_model_module_version": "1.5.0",
       "_model_name": "FloatProgressModel",
       "_view_count": null,
       "_view_module": "@jupyter-widgets/controls",
       "_view_module_version": "1.5.0",
       "_view_name": "ProgressView",
       "bar_style": "success",
       "description": "",
       "description_tooltip": null,
       "layout": "IPY_MODEL_4fb4be0fb0714dd39d66ddada76235d1",
       "max": 9912422,
       "min": 0,
       "orientation": "horizontal",
       "style": "IPY_MODEL_8ab10dc3a6a3422892490ac9debf729e",
       "value": 9912422
      }
     },
     "4fb4be0fb0714dd39d66ddada76235d1": {
      "model_module": "@jupyter-widgets/base",
      "model_module_version": "1.2.0",
      "model_name": "LayoutModel",
      "state": {
       "_model_module": "@jupyter-widgets/base",
       "_model_module_version": "1.2.0",
       "_model_name": "LayoutModel",
       "_view_count": null,
       "_view_module": "@jupyter-widgets/base",
       "_view_module_version": "1.2.0",
       "_view_name": "LayoutView",
       "align_content": null,
       "align_items": null,
       "align_self": null,
       "border": null,
       "bottom": null,
       "display": null,
       "flex": null,
       "flex_flow": null,
       "grid_area": null,
       "grid_auto_columns": null,
       "grid_auto_flow": null,
       "grid_auto_rows": null,
       "grid_column": null,
       "grid_gap": null,
       "grid_row": null,
       "grid_template_areas": null,
       "grid_template_columns": null,
       "grid_template_rows": null,
       "height": null,
       "justify_content": null,
       "justify_items": null,
       "left": null,
       "margin": null,
       "max_height": null,
       "max_width": null,
       "min_height": null,
       "min_width": null,
       "object_fit": null,
       "object_position": null,
       "order": null,
       "overflow": null,
       "overflow_x": null,
       "overflow_y": null,
       "padding": null,
       "right": null,
       "top": null,
       "visibility": null,
       "width": null
      }
     },
     "541449749e994048857b775b7b58ed32": {
      "model_module": "@jupyter-widgets/controls",
      "model_module_version": "1.5.0",
      "model_name": "DescriptionStyleModel",
      "state": {
       "_model_module": "@jupyter-widgets/controls",
       "_model_module_version": "1.5.0",
       "_model_name": "DescriptionStyleModel",
       "_view_count": null,
       "_view_module": "@jupyter-widgets/base",
       "_view_module_version": "1.2.0",
       "_view_name": "StyleView",
       "description_width": ""
      }
     },
     "5488671a0c674f2884805f11d9060db2": {
      "model_module": "@jupyter-widgets/controls",
      "model_module_version": "1.5.0",
      "model_name": "ProgressStyleModel",
      "state": {
       "_model_module": "@jupyter-widgets/controls",
       "_model_module_version": "1.5.0",
       "_model_name": "ProgressStyleModel",
       "_view_count": null,
       "_view_module": "@jupyter-widgets/base",
       "_view_module_version": "1.2.0",
       "_view_name": "StyleView",
       "bar_color": null,
       "description_width": ""
      }
     },
     "551938882a4b439ab0ce7e82e43252b7": {
      "model_module": "@jupyter-widgets/base",
      "model_module_version": "1.2.0",
      "model_name": "LayoutModel",
      "state": {
       "_model_module": "@jupyter-widgets/base",
       "_model_module_version": "1.2.0",
       "_model_name": "LayoutModel",
       "_view_count": null,
       "_view_module": "@jupyter-widgets/base",
       "_view_module_version": "1.2.0",
       "_view_name": "LayoutView",
       "align_content": null,
       "align_items": null,
       "align_self": null,
       "border": null,
       "bottom": null,
       "display": null,
       "flex": null,
       "flex_flow": null,
       "grid_area": null,
       "grid_auto_columns": null,
       "grid_auto_flow": null,
       "grid_auto_rows": null,
       "grid_column": null,
       "grid_gap": null,
       "grid_row": null,
       "grid_template_areas": null,
       "grid_template_columns": null,
       "grid_template_rows": null,
       "height": null,
       "justify_content": null,
       "justify_items": null,
       "left": null,
       "margin": null,
       "max_height": null,
       "max_width": null,
       "min_height": null,
       "min_width": null,
       "object_fit": null,
       "object_position": null,
       "order": null,
       "overflow": null,
       "overflow_x": null,
       "overflow_y": null,
       "padding": null,
       "right": null,
       "top": null,
       "visibility": null,
       "width": null
      }
     },
     "57f2541c6cc74077a8faee8d7e0126ec": {
      "model_module": "@jupyter-widgets/controls",
      "model_module_version": "1.5.0",
      "model_name": "DescriptionStyleModel",
      "state": {
       "_model_module": "@jupyter-widgets/controls",
       "_model_module_version": "1.5.0",
       "_model_name": "DescriptionStyleModel",
       "_view_count": null,
       "_view_module": "@jupyter-widgets/base",
       "_view_module_version": "1.2.0",
       "_view_name": "StyleView",
       "description_width": ""
      }
     },
     "5fc5c5fc0bb2455e998dd3a422c6e07f": {
      "model_module": "@jupyter-widgets/controls",
      "model_module_version": "1.5.0",
      "model_name": "DescriptionStyleModel",
      "state": {
       "_model_module": "@jupyter-widgets/controls",
       "_model_module_version": "1.5.0",
       "_model_name": "DescriptionStyleModel",
       "_view_count": null,
       "_view_module": "@jupyter-widgets/base",
       "_view_module_version": "1.2.0",
       "_view_name": "StyleView",
       "description_width": ""
      }
     },
     "66de70e0fe5c426b87420ba99ea5c76b": {
      "model_module": "@jupyter-widgets/base",
      "model_module_version": "1.2.0",
      "model_name": "LayoutModel",
      "state": {
       "_model_module": "@jupyter-widgets/base",
       "_model_module_version": "1.2.0",
       "_model_name": "LayoutModel",
       "_view_count": null,
       "_view_module": "@jupyter-widgets/base",
       "_view_module_version": "1.2.0",
       "_view_name": "LayoutView",
       "align_content": null,
       "align_items": null,
       "align_self": null,
       "border": null,
       "bottom": null,
       "display": null,
       "flex": null,
       "flex_flow": null,
       "grid_area": null,
       "grid_auto_columns": null,
       "grid_auto_flow": null,
       "grid_auto_rows": null,
       "grid_column": null,
       "grid_gap": null,
       "grid_row": null,
       "grid_template_areas": null,
       "grid_template_columns": null,
       "grid_template_rows": null,
       "height": null,
       "justify_content": null,
       "justify_items": null,
       "left": null,
       "margin": null,
       "max_height": null,
       "max_width": null,
       "min_height": null,
       "min_width": null,
       "object_fit": null,
       "object_position": null,
       "order": null,
       "overflow": null,
       "overflow_x": null,
       "overflow_y": null,
       "padding": null,
       "right": null,
       "top": null,
       "visibility": null,
       "width": null
      }
     },
     "673f9c52bcea4144a39e133c7c3a72b6": {
      "model_module": "@jupyter-widgets/controls",
      "model_module_version": "1.5.0",
      "model_name": "HBoxModel",
      "state": {
       "_dom_classes": [],
       "_model_module": "@jupyter-widgets/controls",
       "_model_module_version": "1.5.0",
       "_model_name": "HBoxModel",
       "_view_count": null,
       "_view_module": "@jupyter-widgets/controls",
       "_view_module_version": "1.5.0",
       "_view_name": "HBoxView",
       "box_style": "",
       "children": [
        "IPY_MODEL_c630b064875b4972b0df5d8676c90831",
        "IPY_MODEL_e4868092e2404492bd67eb28b97ddd9a",
        "IPY_MODEL_45e4023876ea43d99bffa3f546217d7b"
       ],
       "layout": "IPY_MODEL_48090c8056b14944b9c89566084c78a9"
      }
     },
     "691ae7a6cc6844aaa83d0010489d2db5": {
      "model_module": "@jupyter-widgets/controls",
      "model_module_version": "1.5.0",
      "model_name": "HBoxModel",
      "state": {
       "_dom_classes": [],
       "_model_module": "@jupyter-widgets/controls",
       "_model_module_version": "1.5.0",
       "_model_name": "HBoxModel",
       "_view_count": null,
       "_view_module": "@jupyter-widgets/controls",
       "_view_module_version": "1.5.0",
       "_view_name": "HBoxView",
       "box_style": "",
       "children": [
        "IPY_MODEL_c415f94280a346d79c32acccef6755d3",
        "IPY_MODEL_bf59daf1fba94a578a9f735df3cbd610",
        "IPY_MODEL_b62e434bc02a410db144ec5f1ca5ef48"
       ],
       "layout": "IPY_MODEL_3649959d91ba468c9a84b6da1b8b7171"
      }
     },
     "70ed1cbdc9104b9b9cf90179da7833fe": {
      "model_module": "@jupyter-widgets/base",
      "model_module_version": "1.2.0",
      "model_name": "LayoutModel",
      "state": {
       "_model_module": "@jupyter-widgets/base",
       "_model_module_version": "1.2.0",
       "_model_name": "LayoutModel",
       "_view_count": null,
       "_view_module": "@jupyter-widgets/base",
       "_view_module_version": "1.2.0",
       "_view_name": "LayoutView",
       "align_content": null,
       "align_items": null,
       "align_self": null,
       "border": null,
       "bottom": null,
       "display": null,
       "flex": null,
       "flex_flow": null,
       "grid_area": null,
       "grid_auto_columns": null,
       "grid_auto_flow": null,
       "grid_auto_rows": null,
       "grid_column": null,
       "grid_gap": null,
       "grid_row": null,
       "grid_template_areas": null,
       "grid_template_columns": null,
       "grid_template_rows": null,
       "height": null,
       "justify_content": null,
       "justify_items": null,
       "left": null,
       "margin": null,
       "max_height": null,
       "max_width": null,
       "min_height": null,
       "min_width": null,
       "object_fit": null,
       "object_position": null,
       "order": null,
       "overflow": null,
       "overflow_x": null,
       "overflow_y": null,
       "padding": null,
       "right": null,
       "top": null,
       "visibility": null,
       "width": null
      }
     },
     "7895e4d20b004493803d04b2efb50520": {
      "model_module": "@jupyter-widgets/controls",
      "model_module_version": "1.5.0",
      "model_name": "HTMLModel",
      "state": {
       "_dom_classes": [],
       "_model_module": "@jupyter-widgets/controls",
       "_model_module_version": "1.5.0",
       "_model_name": "HTMLModel",
       "_view_count": null,
       "_view_module": "@jupyter-widgets/controls",
       "_view_module_version": "1.5.0",
       "_view_name": "HTMLView",
       "description": "",
       "description_tooltip": null,
       "layout": "IPY_MODEL_88e125f6a0a24bbaa973ea0b3bbd4406",
       "placeholder": "​",
       "style": "IPY_MODEL_bfedfa7fd36a40b481a99a073e7c80aa",
       "value": " 1649664/? [00:00&lt;00:00, 5585756.00it/s]"
      }
     },
     "85538a42b11b40aa9abded53dcd344bf": {
      "model_module": "@jupyter-widgets/controls",
      "model_module_version": "1.5.0",
      "model_name": "HTMLModel",
      "state": {
       "_dom_classes": [],
       "_model_module": "@jupyter-widgets/controls",
       "_model_module_version": "1.5.0",
       "_model_name": "HTMLModel",
       "_view_count": null,
       "_view_module": "@jupyter-widgets/controls",
       "_view_module_version": "1.5.0",
       "_view_name": "HTMLView",
       "description": "",
       "description_tooltip": null,
       "layout": "IPY_MODEL_66de70e0fe5c426b87420ba99ea5c76b",
       "placeholder": "​",
       "style": "IPY_MODEL_541449749e994048857b775b7b58ed32",
       "value": ""
      }
     },
     "88e125f6a0a24bbaa973ea0b3bbd4406": {
      "model_module": "@jupyter-widgets/base",
      "model_module_version": "1.2.0",
      "model_name": "LayoutModel",
      "state": {
       "_model_module": "@jupyter-widgets/base",
       "_model_module_version": "1.2.0",
       "_model_name": "LayoutModel",
       "_view_count": null,
       "_view_module": "@jupyter-widgets/base",
       "_view_module_version": "1.2.0",
       "_view_name": "LayoutView",
       "align_content": null,
       "align_items": null,
       "align_self": null,
       "border": null,
       "bottom": null,
       "display": null,
       "flex": null,
       "flex_flow": null,
       "grid_area": null,
       "grid_auto_columns": null,
       "grid_auto_flow": null,
       "grid_auto_rows": null,
       "grid_column": null,
       "grid_gap": null,
       "grid_row": null,
       "grid_template_areas": null,
       "grid_template_columns": null,
       "grid_template_rows": null,
       "height": null,
       "justify_content": null,
       "justify_items": null,
       "left": null,
       "margin": null,
       "max_height": null,
       "max_width": null,
       "min_height": null,
       "min_width": null,
       "object_fit": null,
       "object_position": null,
       "order": null,
       "overflow": null,
       "overflow_x": null,
       "overflow_y": null,
       "padding": null,
       "right": null,
       "top": null,
       "visibility": null,
       "width": null
      }
     },
     "8ab10dc3a6a3422892490ac9debf729e": {
      "model_module": "@jupyter-widgets/controls",
      "model_module_version": "1.5.0",
      "model_name": "ProgressStyleModel",
      "state": {
       "_model_module": "@jupyter-widgets/controls",
       "_model_module_version": "1.5.0",
       "_model_name": "ProgressStyleModel",
       "_view_count": null,
       "_view_module": "@jupyter-widgets/base",
       "_view_module_version": "1.2.0",
       "_view_name": "StyleView",
       "bar_color": null,
       "description_width": ""
      }
     },
     "98c4900cca794ae4a0b01221c8eb759a": {
      "model_module": "@jupyter-widgets/controls",
      "model_module_version": "1.5.0",
      "model_name": "HTMLModel",
      "state": {
       "_dom_classes": [],
       "_model_module": "@jupyter-widgets/controls",
       "_model_module_version": "1.5.0",
       "_model_name": "HTMLModel",
       "_view_count": null,
       "_view_module": "@jupyter-widgets/controls",
       "_view_module_version": "1.5.0",
       "_view_name": "HTMLView",
       "description": "",
       "description_tooltip": null,
       "layout": "IPY_MODEL_b4c2d854fae24d96a89774599934ac3d",
       "placeholder": "​",
       "style": "IPY_MODEL_c97ff9a0d05f4197a4474522ebc72478",
       "value": ""
      }
     },
     "9fff5246881d4ebc8984bdf581f23167": {
      "model_module": "@jupyter-widgets/base",
      "model_module_version": "1.2.0",
      "model_name": "LayoutModel",
      "state": {
       "_model_module": "@jupyter-widgets/base",
       "_model_module_version": "1.2.0",
       "_model_name": "LayoutModel",
       "_view_count": null,
       "_view_module": "@jupyter-widgets/base",
       "_view_module_version": "1.2.0",
       "_view_name": "LayoutView",
       "align_content": null,
       "align_items": null,
       "align_self": null,
       "border": null,
       "bottom": null,
       "display": null,
       "flex": null,
       "flex_flow": null,
       "grid_area": null,
       "grid_auto_columns": null,
       "grid_auto_flow": null,
       "grid_auto_rows": null,
       "grid_column": null,
       "grid_gap": null,
       "grid_row": null,
       "grid_template_areas": null,
       "grid_template_columns": null,
       "grid_template_rows": null,
       "height": null,
       "justify_content": null,
       "justify_items": null,
       "left": null,
       "margin": null,
       "max_height": null,
       "max_width": null,
       "min_height": null,
       "min_width": null,
       "object_fit": null,
       "object_position": null,
       "order": null,
       "overflow": null,
       "overflow_x": null,
       "overflow_y": null,
       "padding": null,
       "right": null,
       "top": null,
       "visibility": null,
       "width": null
      }
     },
     "a2a5a28ba2224d8c88b43e1c64637ee9": {
      "model_module": "@jupyter-widgets/base",
      "model_module_version": "1.2.0",
      "model_name": "LayoutModel",
      "state": {
       "_model_module": "@jupyter-widgets/base",
       "_model_module_version": "1.2.0",
       "_model_name": "LayoutModel",
       "_view_count": null,
       "_view_module": "@jupyter-widgets/base",
       "_view_module_version": "1.2.0",
       "_view_name": "LayoutView",
       "align_content": null,
       "align_items": null,
       "align_self": null,
       "border": null,
       "bottom": null,
       "display": null,
       "flex": null,
       "flex_flow": null,
       "grid_area": null,
       "grid_auto_columns": null,
       "grid_auto_flow": null,
       "grid_auto_rows": null,
       "grid_column": null,
       "grid_gap": null,
       "grid_row": null,
       "grid_template_areas": null,
       "grid_template_columns": null,
       "grid_template_rows": null,
       "height": null,
       "justify_content": null,
       "justify_items": null,
       "left": null,
       "margin": null,
       "max_height": null,
       "max_width": null,
       "min_height": null,
       "min_width": null,
       "object_fit": null,
       "object_position": null,
       "order": null,
       "overflow": null,
       "overflow_x": null,
       "overflow_y": null,
       "padding": null,
       "right": null,
       "top": null,
       "visibility": null,
       "width": null
      }
     },
     "a468b591e42447c1a697e77416e338f7": {
      "model_module": "@jupyter-widgets/controls",
      "model_module_version": "1.5.0",
      "model_name": "DescriptionStyleModel",
      "state": {
       "_model_module": "@jupyter-widgets/controls",
       "_model_module_version": "1.5.0",
       "_model_name": "DescriptionStyleModel",
       "_view_count": null,
       "_view_module": "@jupyter-widgets/base",
       "_view_module_version": "1.2.0",
       "_view_name": "StyleView",
       "description_width": ""
      }
     },
     "a7c8c06b900e4e69b5bc163f75e50cf4": {
      "model_module": "@jupyter-widgets/controls",
      "model_module_version": "1.5.0",
      "model_name": "HBoxModel",
      "state": {
       "_dom_classes": [],
       "_model_module": "@jupyter-widgets/controls",
       "_model_module_version": "1.5.0",
       "_model_name": "HBoxModel",
       "_view_count": null,
       "_view_module": "@jupyter-widgets/controls",
       "_view_module_version": "1.5.0",
       "_view_name": "HBoxView",
       "box_style": "",
       "children": [
        "IPY_MODEL_98c4900cca794ae4a0b01221c8eb759a",
        "IPY_MODEL_d0e07bb8788f4963a8706579dcf51d40",
        "IPY_MODEL_7895e4d20b004493803d04b2efb50520"
       ],
       "layout": "IPY_MODEL_f27a4d4066d044d0aa6b7b5c9fe09503"
      }
     },
     "ab20ea80b74848b7ae2b67e783477faa": {
      "model_module": "@jupyter-widgets/base",
      "model_module_version": "1.2.0",
      "model_name": "LayoutModel",
      "state": {
       "_model_module": "@jupyter-widgets/base",
       "_model_module_version": "1.2.0",
       "_model_name": "LayoutModel",
       "_view_count": null,
       "_view_module": "@jupyter-widgets/base",
       "_view_module_version": "1.2.0",
       "_view_name": "LayoutView",
       "align_content": null,
       "align_items": null,
       "align_self": null,
       "border": null,
       "bottom": null,
       "display": null,
       "flex": null,
       "flex_flow": null,
       "grid_area": null,
       "grid_auto_columns": null,
       "grid_auto_flow": null,
       "grid_auto_rows": null,
       "grid_column": null,
       "grid_gap": null,
       "grid_row": null,
       "grid_template_areas": null,
       "grid_template_columns": null,
       "grid_template_rows": null,
       "height": null,
       "justify_content": null,
       "justify_items": null,
       "left": null,
       "margin": null,
       "max_height": null,
       "max_width": null,
       "min_height": null,
       "min_width": null,
       "object_fit": null,
       "object_position": null,
       "order": null,
       "overflow": null,
       "overflow_x": null,
       "overflow_y": null,
       "padding": null,
       "right": null,
       "top": null,
       "visibility": null,
       "width": null
      }
     },
     "aed9898e6c1540cbb0514e7166de307b": {
      "model_module": "@jupyter-widgets/base",
      "model_module_version": "1.2.0",
      "model_name": "LayoutModel",
      "state": {
       "_model_module": "@jupyter-widgets/base",
       "_model_module_version": "1.2.0",
       "_model_name": "LayoutModel",
       "_view_count": null,
       "_view_module": "@jupyter-widgets/base",
       "_view_module_version": "1.2.0",
       "_view_name": "LayoutView",
       "align_content": null,
       "align_items": null,
       "align_self": null,
       "border": null,
       "bottom": null,
       "display": null,
       "flex": null,
       "flex_flow": null,
       "grid_area": null,
       "grid_auto_columns": null,
       "grid_auto_flow": null,
       "grid_auto_rows": null,
       "grid_column": null,
       "grid_gap": null,
       "grid_row": null,
       "grid_template_areas": null,
       "grid_template_columns": null,
       "grid_template_rows": null,
       "height": null,
       "justify_content": null,
       "justify_items": null,
       "left": null,
       "margin": null,
       "max_height": null,
       "max_width": null,
       "min_height": null,
       "min_width": null,
       "object_fit": null,
       "object_position": null,
       "order": null,
       "overflow": null,
       "overflow_x": null,
       "overflow_y": null,
       "padding": null,
       "right": null,
       "top": null,
       "visibility": null,
       "width": null
      }
     },
     "b3b8d8c30dec420789750f8b5d35463e": {
      "model_module": "@jupyter-widgets/controls",
      "model_module_version": "1.5.0",
      "model_name": "HBoxModel",
      "state": {
       "_dom_classes": [],
       "_model_module": "@jupyter-widgets/controls",
       "_model_module_version": "1.5.0",
       "_model_name": "HBoxModel",
       "_view_count": null,
       "_view_module": "@jupyter-widgets/controls",
       "_view_module_version": "1.5.0",
       "_view_name": "HBoxView",
       "box_style": "",
       "children": [
        "IPY_MODEL_85538a42b11b40aa9abded53dcd344bf",
        "IPY_MODEL_4adbdfdff3e9473995cba64d88f4db12",
        "IPY_MODEL_c9a47421852440b9838cb82075e73a38"
       ],
       "layout": "IPY_MODEL_ab20ea80b74848b7ae2b67e783477faa"
      }
     },
     "b4c2d854fae24d96a89774599934ac3d": {
      "model_module": "@jupyter-widgets/base",
      "model_module_version": "1.2.0",
      "model_name": "LayoutModel",
      "state": {
       "_model_module": "@jupyter-widgets/base",
       "_model_module_version": "1.2.0",
       "_model_name": "LayoutModel",
       "_view_count": null,
       "_view_module": "@jupyter-widgets/base",
       "_view_module_version": "1.2.0",
       "_view_name": "LayoutView",
       "align_content": null,
       "align_items": null,
       "align_self": null,
       "border": null,
       "bottom": null,
       "display": null,
       "flex": null,
       "flex_flow": null,
       "grid_area": null,
       "grid_auto_columns": null,
       "grid_auto_flow": null,
       "grid_auto_rows": null,
       "grid_column": null,
       "grid_gap": null,
       "grid_row": null,
       "grid_template_areas": null,
       "grid_template_columns": null,
       "grid_template_rows": null,
       "height": null,
       "justify_content": null,
       "justify_items": null,
       "left": null,
       "margin": null,
       "max_height": null,
       "max_width": null,
       "min_height": null,
       "min_width": null,
       "object_fit": null,
       "object_position": null,
       "order": null,
       "overflow": null,
       "overflow_x": null,
       "overflow_y": null,
       "padding": null,
       "right": null,
       "top": null,
       "visibility": null,
       "width": null
      }
     },
     "b62e434bc02a410db144ec5f1ca5ef48": {
      "model_module": "@jupyter-widgets/controls",
      "model_module_version": "1.5.0",
      "model_name": "HTMLModel",
      "state": {
       "_dom_classes": [],
       "_model_module": "@jupyter-widgets/controls",
       "_model_module_version": "1.5.0",
       "_model_name": "HTMLModel",
       "_view_count": null,
       "_view_module": "@jupyter-widgets/controls",
       "_view_module_version": "1.5.0",
       "_view_name": "HTMLView",
       "description": "",
       "description_tooltip": null,
       "layout": "IPY_MODEL_a2a5a28ba2224d8c88b43e1c64637ee9",
       "placeholder": "​",
       "style": "IPY_MODEL_5fc5c5fc0bb2455e998dd3a422c6e07f",
       "value": " 29696/? [00:00&lt;00:00, 1257017.08it/s]"
      }
     },
     "bf59daf1fba94a578a9f735df3cbd610": {
      "model_module": "@jupyter-widgets/controls",
      "model_module_version": "1.5.0",
      "model_name": "FloatProgressModel",
      "state": {
       "_dom_classes": [],
       "_model_module": "@jupyter-widgets/controls",
       "_model_module_version": "1.5.0",
       "_model_name": "FloatProgressModel",
       "_view_count": null,
       "_view_module": "@jupyter-widgets/controls",
       "_view_module_version": "1.5.0",
       "_view_name": "ProgressView",
       "bar_style": "success",
       "description": "",
       "description_tooltip": null,
       "layout": "IPY_MODEL_2e68f9d402d64acfa935f793fea0e03d",
       "max": 28881,
       "min": 0,
       "orientation": "horizontal",
       "style": "IPY_MODEL_5488671a0c674f2884805f11d9060db2",
       "value": 28881
      }
     },
     "bfedfa7fd36a40b481a99a073e7c80aa": {
      "model_module": "@jupyter-widgets/controls",
      "model_module_version": "1.5.0",
      "model_name": "DescriptionStyleModel",
      "state": {
       "_model_module": "@jupyter-widgets/controls",
       "_model_module_version": "1.5.0",
       "_model_name": "DescriptionStyleModel",
       "_view_count": null,
       "_view_module": "@jupyter-widgets/base",
       "_view_module_version": "1.2.0",
       "_view_name": "StyleView",
       "description_width": ""
      }
     },
     "c36f9110cf954cd2b28b5abbe69361a7": {
      "model_module": "@jupyter-widgets/base",
      "model_module_version": "1.2.0",
      "model_name": "LayoutModel",
      "state": {
       "_model_module": "@jupyter-widgets/base",
       "_model_module_version": "1.2.0",
       "_model_name": "LayoutModel",
       "_view_count": null,
       "_view_module": "@jupyter-widgets/base",
       "_view_module_version": "1.2.0",
       "_view_name": "LayoutView",
       "align_content": null,
       "align_items": null,
       "align_self": null,
       "border": null,
       "bottom": null,
       "display": null,
       "flex": null,
       "flex_flow": null,
       "grid_area": null,
       "grid_auto_columns": null,
       "grid_auto_flow": null,
       "grid_auto_rows": null,
       "grid_column": null,
       "grid_gap": null,
       "grid_row": null,
       "grid_template_areas": null,
       "grid_template_columns": null,
       "grid_template_rows": null,
       "height": null,
       "justify_content": null,
       "justify_items": null,
       "left": null,
       "margin": null,
       "max_height": null,
       "max_width": null,
       "min_height": null,
       "min_width": null,
       "object_fit": null,
       "object_position": null,
       "order": null,
       "overflow": null,
       "overflow_x": null,
       "overflow_y": null,
       "padding": null,
       "right": null,
       "top": null,
       "visibility": null,
       "width": null
      }
     },
     "c415f94280a346d79c32acccef6755d3": {
      "model_module": "@jupyter-widgets/controls",
      "model_module_version": "1.5.0",
      "model_name": "HTMLModel",
      "state": {
       "_dom_classes": [],
       "_model_module": "@jupyter-widgets/controls",
       "_model_module_version": "1.5.0",
       "_model_name": "HTMLModel",
       "_view_count": null,
       "_view_module": "@jupyter-widgets/controls",
       "_view_module_version": "1.5.0",
       "_view_name": "HTMLView",
       "description": "",
       "description_tooltip": null,
       "layout": "IPY_MODEL_9fff5246881d4ebc8984bdf581f23167",
       "placeholder": "​",
       "style": "IPY_MODEL_a468b591e42447c1a697e77416e338f7",
       "value": ""
      }
     },
     "c630b064875b4972b0df5d8676c90831": {
      "model_module": "@jupyter-widgets/controls",
      "model_module_version": "1.5.0",
      "model_name": "HTMLModel",
      "state": {
       "_dom_classes": [],
       "_model_module": "@jupyter-widgets/controls",
       "_model_module_version": "1.5.0",
       "_model_name": "HTMLModel",
       "_view_count": null,
       "_view_module": "@jupyter-widgets/controls",
       "_view_module_version": "1.5.0",
       "_view_name": "HTMLView",
       "description": "",
       "description_tooltip": null,
       "layout": "IPY_MODEL_70ed1cbdc9104b9b9cf90179da7833fe",
       "placeholder": "​",
       "style": "IPY_MODEL_0474ab1a06bb4a4aa9d84fbf0f7643c8",
       "value": ""
      }
     },
     "c97ff9a0d05f4197a4474522ebc72478": {
      "model_module": "@jupyter-widgets/controls",
      "model_module_version": "1.5.0",
      "model_name": "DescriptionStyleModel",
      "state": {
       "_model_module": "@jupyter-widgets/controls",
       "_model_module_version": "1.5.0",
       "_model_name": "DescriptionStyleModel",
       "_view_count": null,
       "_view_module": "@jupyter-widgets/base",
       "_view_module_version": "1.2.0",
       "_view_name": "StyleView",
       "description_width": ""
      }
     },
     "c9a47421852440b9838cb82075e73a38": {
      "model_module": "@jupyter-widgets/controls",
      "model_module_version": "1.5.0",
      "model_name": "HTMLModel",
      "state": {
       "_dom_classes": [],
       "_model_module": "@jupyter-widgets/controls",
       "_model_module_version": "1.5.0",
       "_model_name": "HTMLModel",
       "_view_count": null,
       "_view_module": "@jupyter-widgets/controls",
       "_view_module_version": "1.5.0",
       "_view_name": "HTMLView",
       "description": "",
       "description_tooltip": null,
       "layout": "IPY_MODEL_c36f9110cf954cd2b28b5abbe69361a7",
       "placeholder": "​",
       "style": "IPY_MODEL_57f2541c6cc74077a8faee8d7e0126ec",
       "value": " 9913344/? [00:00&lt;00:00, 10507277.31it/s]"
      }
     },
     "d0e07bb8788f4963a8706579dcf51d40": {
      "model_module": "@jupyter-widgets/controls",
      "model_module_version": "1.5.0",
      "model_name": "FloatProgressModel",
      "state": {
       "_dom_classes": [],
       "_model_module": "@jupyter-widgets/controls",
       "_model_module_version": "1.5.0",
       "_model_name": "FloatProgressModel",
       "_view_count": null,
       "_view_module": "@jupyter-widgets/controls",
       "_view_module_version": "1.5.0",
       "_view_name": "ProgressView",
       "bar_style": "success",
       "description": "",
       "description_tooltip": null,
       "layout": "IPY_MODEL_551938882a4b439ab0ce7e82e43252b7",
       "max": 1648877,
       "min": 0,
       "orientation": "horizontal",
       "style": "IPY_MODEL_3f9ffdb7a3994ffb83bd16ee3b19168f",
       "value": 1648877
      }
     },
     "e317c6ca76f64361a26a662e7936f8b9": {
      "model_module": "@jupyter-widgets/base",
      "model_module_version": "1.2.0",
      "model_name": "LayoutModel",
      "state": {
       "_model_module": "@jupyter-widgets/base",
       "_model_module_version": "1.2.0",
       "_model_name": "LayoutModel",
       "_view_count": null,
       "_view_module": "@jupyter-widgets/base",
       "_view_module_version": "1.2.0",
       "_view_name": "LayoutView",
       "align_content": null,
       "align_items": null,
       "align_self": null,
       "border": null,
       "bottom": null,
       "display": null,
       "flex": null,
       "flex_flow": null,
       "grid_area": null,
       "grid_auto_columns": null,
       "grid_auto_flow": null,
       "grid_auto_rows": null,
       "grid_column": null,
       "grid_gap": null,
       "grid_row": null,
       "grid_template_areas": null,
       "grid_template_columns": null,
       "grid_template_rows": null,
       "height": null,
       "justify_content": null,
       "justify_items": null,
       "left": null,
       "margin": null,
       "max_height": null,
       "max_width": null,
       "min_height": null,
       "min_width": null,
       "object_fit": null,
       "object_position": null,
       "order": null,
       "overflow": null,
       "overflow_x": null,
       "overflow_y": null,
       "padding": null,
       "right": null,
       "top": null,
       "visibility": null,
       "width": null
      }
     },
     "e4868092e2404492bd67eb28b97ddd9a": {
      "model_module": "@jupyter-widgets/controls",
      "model_module_version": "1.5.0",
      "model_name": "FloatProgressModel",
      "state": {
       "_dom_classes": [],
       "_model_module": "@jupyter-widgets/controls",
       "_model_module_version": "1.5.0",
       "_model_name": "FloatProgressModel",
       "_view_count": null,
       "_view_module": "@jupyter-widgets/controls",
       "_view_module_version": "1.5.0",
       "_view_name": "ProgressView",
       "bar_style": "success",
       "description": "",
       "description_tooltip": null,
       "layout": "IPY_MODEL_aed9898e6c1540cbb0514e7166de307b",
       "max": 4542,
       "min": 0,
       "orientation": "horizontal",
       "style": "IPY_MODEL_27d4925561eb409aa3f619fe60cf1045",
       "value": 4542
      }
     },
     "f27a4d4066d044d0aa6b7b5c9fe09503": {
      "model_module": "@jupyter-widgets/base",
      "model_module_version": "1.2.0",
      "model_name": "LayoutModel",
      "state": {
       "_model_module": "@jupyter-widgets/base",
       "_model_module_version": "1.2.0",
       "_model_name": "LayoutModel",
       "_view_count": null,
       "_view_module": "@jupyter-widgets/base",
       "_view_module_version": "1.2.0",
       "_view_name": "LayoutView",
       "align_content": null,
       "align_items": null,
       "align_self": null,
       "border": null,
       "bottom": null,
       "display": null,
       "flex": null,
       "flex_flow": null,
       "grid_area": null,
       "grid_auto_columns": null,
       "grid_auto_flow": null,
       "grid_auto_rows": null,
       "grid_column": null,
       "grid_gap": null,
       "grid_row": null,
       "grid_template_areas": null,
       "grid_template_columns": null,
       "grid_template_rows": null,
       "height": null,
       "justify_content": null,
       "justify_items": null,
       "left": null,
       "margin": null,
       "max_height": null,
       "max_width": null,
       "min_height": null,
       "min_width": null,
       "object_fit": null,
       "object_position": null,
       "order": null,
       "overflow": null,
       "overflow_x": null,
       "overflow_y": null,
       "padding": null,
       "right": null,
       "top": null,
       "visibility": null,
       "width": null
      }
     },
     "f54b9859d90348e9abc3e869df8bbf27": {
      "model_module": "@jupyter-widgets/controls",
      "model_module_version": "1.5.0",
      "model_name": "DescriptionStyleModel",
      "state": {
       "_model_module": "@jupyter-widgets/controls",
       "_model_module_version": "1.5.0",
       "_model_name": "DescriptionStyleModel",
       "_view_count": null,
       "_view_module": "@jupyter-widgets/base",
       "_view_module_version": "1.2.0",
       "_view_name": "StyleView",
       "description_width": ""
      }
     }
    },
    "version_major": 2,
    "version_minor": 0
   }
  }
 },
 "nbformat": 4,
 "nbformat_minor": 5
}
